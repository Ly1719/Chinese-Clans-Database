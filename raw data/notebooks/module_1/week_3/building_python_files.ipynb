{
 "cells": [
  {
   "cell_type": "markdown",
   "id": "d90444cc-3a44-47fa-a1ec-1e8e51780623",
   "metadata": {},
   "source": [
    "# 1. Functions and OOP"
   ]
  },
  {
   "cell_type": "markdown",
   "id": "e8362128-c03b-442a-9fd0-52544db98b96",
   "metadata": {},
   "source": [
    "## 1.A Reviewing functions"
   ]
  },
  {
   "cell_type": "code",
   "execution_count": 1,
   "id": "a8d7783b-daba-4d43-bb6f-0b13df10956e",
   "metadata": {},
   "outputs": [
    {
     "name": "stdout",
     "output_type": "stream",
     "text": [
      "The result of string_print function: LOOK MOM I CAN PRINT\n",
      "The result of add_func function: 10\n"
     ]
    }
   ],
   "source": [
    "#src/examples/function_basic.py\n",
    "# Function 1\n",
    "def string_print(a):\n",
    "    return a\n",
    "\n",
    "result = string_print('LOOK MOM I CAN PRINT')\n",
    "print(f\"The result of string_print function: {result}\")\n",
    "\n",
    "# Function 2\n",
    "def add_func(a, b, c):\n",
    "    final = a + b + c\n",
    "    return final\n",
    "\n",
    "result = add_func(5, 3, 2)\n",
    "print(f\"The result of add_func function: {result}\")"
   ]
  },
  {
   "cell_type": "markdown",
   "id": "aa63e493-b19f-494e-bfc4-c7a13e34c728",
   "metadata": {},
   "source": [
    "## 1.1 Functions: Downloading and transforming"
   ]
  },
  {
   "cell_type": "markdown",
   "id": "adc81621-90f0-4587-87b0-df65f05b8e05",
   "metadata": {},
   "source": [
    "### 1.1.1 Download"
   ]
  },
  {
   "cell_type": "code",
   "execution_count": 2,
   "id": "84f12386-636c-4837-92dd-78a635ce67c5",
   "metadata": {},
   "outputs": [
    {
     "name": "stdout",
     "output_type": "stream",
     "text": [
      "Fetching macroeconomic data from: https://github.com/KMueller-Lab/Global-Macro-Database/raw/refs/heads/main/data/final/chainlinked_infl.dta\n",
      "Fetching OECD data from: https://sdmx.oecd.org/public/rest/data/OECD.SDD.TPS,DSD_PDB@DF_PDB_ULC_Q,1.0/.Q.......?startPeriod=1990-Q4&format=csv\n"
     ]
    }
   ],
   "source": [
    "import pandas as pd\n",
    "import requests\n",
    "import io\n",
    "import os\n",
    "\n",
    "def download_macro_data(url):\n",
    "    \"\"\"Downloads macroeconomic data from a URL and returns a pandas DataFrame.\"\"\"\n",
    "    print(f\"Fetching macroeconomic data from: {url}\")\n",
    "    df = pd.read_stata(url)\n",
    "    return df\n",
    "\n",
    "def download_oecd_data(url):\n",
    "    \"\"\"Downloads OECD data from a URL and returns a pandas DataFrame.\"\"\"\n",
    "    print(f\"Fetching OECD data from: {url}\")\n",
    "    response = requests.get(url)\n",
    "    response.raise_for_status()  # Raise an exception for HTTP errors\n",
    "    data = io.StringIO(response.text)\n",
    "    df = pd.read_csv(data)\n",
    "    return df\n",
    "\n",
    "url_macro = 'https://github.com/KMueller-Lab/Global-Macro-Database/raw/refs/heads/main/data/final/chainlinked_infl.dta'\n",
    "url_oecd = \"https://sdmx.oecd.org/public/rest/data/OECD.SDD.TPS,DSD_PDB@DF_PDB_ULC_Q,1.0/.Q.......?startPeriod=1990-Q4&format=csv\"\n",
    "\n",
    "df_macro_raw = download_macro_data(url_macro)\n",
    "df_oecd_raw = download_oecd_data(url_oecd)"
   ]
  },
  {
   "cell_type": "markdown",
   "id": "9525e999-ce6f-4d66-8370-4832bb1a23c0",
   "metadata": {},
   "source": [
    "### 1.1.2 Filter"
   ]
  },
  {
   "cell_type": "code",
   "execution_count": 3,
   "id": "f8ab1f42-aa9e-401b-82f3-5de0f415bcac",
   "metadata": {},
   "outputs": [],
   "source": [
    "def filter_rename_macro_nz(df):\n",
    "    \"\"\"Filters macroeconomic data for New Zealand, selects and renames columns.\"\"\"\n",
    "    df_nz = df.query(\"ISO3 == 'NZL'\")[['ISO3', 'year', 'OECD_KEI_infl', 'BIS_infl']].dropna()\n",
    "    df_nz = df_nz.rename({\"ISO3\":'country', \"year\":'date'}, axis=1)\n",
    "    return df_nz\n",
    "\n",
    "def filter_rename_oecd_nz(df):\n",
    "    \"\"\"Filters OECD data for New Zealand, selects, renames, and drops columns.\"\"\"\n",
    "    cols = ['REF_AREA', 'TIME_PERIOD', 'OBS_VALUE', 'MEASURE', 'UNIT_MEASURE']\n",
    "    df_nz = df[cols].query(\"REF_AREA == 'NZL' & MEASURE=='ULCE' & UNIT_MEASURE == 'PA'\")\n",
    "    print(f\"Filtered OECD data for NZL with shape: {df_nz.shape}\")\n",
    "    df_nz = df_nz.rename({\"REF_AREA\":'country', \"TIME_PERIOD\":'date', 'OBS_VALUE':'ULCE'}, axis=1).drop([\"MEASURE\", \"UNIT_MEASURE\"], axis=1)\n",
    "    return df_nz"
   ]
  },
  {
   "cell_type": "code",
   "execution_count": 4,
   "id": "e089d320-d59d-4fd9-91c8-02714ea56d95",
   "metadata": {},
   "outputs": [
    {
     "name": "stdout",
     "output_type": "stream",
     "text": [
      "Filtered OECD data for NZL with shape: (136, 5)\n"
     ]
    }
   ],
   "source": [
    "df_macro_nz = filter_rename_macro_nz(df_macro_raw.copy())\n",
    "df_oecd_nz = filter_rename_oecd_nz(df_oecd_raw.copy())"
   ]
  },
  {
   "cell_type": "markdown",
   "id": "c6dd8214-e3af-420d-ba74-d8a007a210ce",
   "metadata": {},
   "source": [
    "## 1.3 Convert datetime"
   ]
  },
  {
   "cell_type": "code",
   "execution_count": 5,
   "id": "59db3591-93e1-4f49-965c-9371989ca23f",
   "metadata": {},
   "outputs": [],
   "source": [
    "def convert_datetime(df_oecd, df_macro):\n",
    "    \"\"\"Converts date columns to datetime objects.\"\"\"\n",
    "    df_oecd['date'] = pd.PeriodIndex(df_oecd['date'], freq='Q').to_timestamp().date\n",
    "    print(\"Converted 'date' column in OECD data for NZL to datetime.date.\")\n",
    "    print(f\"Data type of 'date' in OECD data for NZL: {df_oecd['date'].dtype}\")\n",
    "    df_macro['date'] = pd.to_datetime(df_macro['date'], format = '%Y').dt.date\n",
    "    print(\"Converted 'date' column in macroeconomic data for NZL to datetime.date.\")\n",
    "    print(f\"Data type of 'date' in macroeconomic data for NZL: {df_macro['date'].dtype}\")\n",
    "    return df_oecd, df_macro"
   ]
  },
  {
   "cell_type": "code",
   "execution_count": 6,
   "id": "52af4074-ecc7-4c93-9cf2-e48261fec26d",
   "metadata": {},
   "outputs": [
    {
     "name": "stdout",
     "output_type": "stream",
     "text": [
      "Converted 'date' column in OECD data for NZL to datetime.date.\n",
      "Data type of 'date' in OECD data for NZL: object\n",
      "Converted 'date' column in macroeconomic data for NZL to datetime.date.\n",
      "Data type of 'date' in macroeconomic data for NZL: object\n"
     ]
    }
   ],
   "source": [
    "df_oecd_nz_dt, df_macro_nz_dt = convert_datetime(df_oecd_nz.copy(), df_macro_nz.copy())"
   ]
  },
  {
   "cell_type": "markdown",
   "id": "910cac3a-29ce-466b-8b06-d331c49f93a7",
   "metadata": {},
   "source": [
    "## 1.4 Set index"
   ]
  },
  {
   "cell_type": "code",
   "execution_count": 7,
   "id": "f4d9b1df-7701-42d7-82e4-57357001b1fd",
   "metadata": {},
   "outputs": [],
   "source": [
    "def set_index(df_oecd, df_macro):\n",
    "    \"\"\"Sets 'country' and 'date' as the index for both DataFrames.\"\"\"\n",
    "    df_macro = df_macro.set_index(['country', 'date'])\n",
    "    df_oecd = df_oecd.set_index(['country', 'date'])\n",
    "    return df_oecd, df_macro\n",
    "    \n",
    "df_oecd_indexed, df_macro_indexed = set_index(df_oecd_nz_dt.copy(), df_macro_nz_dt.copy())"
   ]
  },
  {
   "cell_type": "markdown",
   "id": "b0c8ae48-1774-41a7-806d-caa6f69ed26f",
   "metadata": {},
   "source": [
    "## 1.5 Merge"
   ]
  },
  {
   "cell_type": "code",
   "execution_count": 8,
   "id": "b80b8e2e-d73c-47b5-9452-c1b496b1b4eb",
   "metadata": {},
   "outputs": [],
   "source": [
    "def merge_data(df_macro, df_oecd):\n",
    "    \"\"\"Merges two DataFrames based on their index.\"\"\"\n",
    "    df_merge = pd.merge(\n",
    "        df_macro,\n",
    "        df_oecd,\n",
    "        right_index = True,\n",
    "        left_index = True,\n",
    "        how = 'inner'\n",
    "    )\n",
    "    return df_merge\n",
    "df_merged = merge_data(df_macro_indexed.copy(), df_oecd_indexed.copy())"
   ]
  },
  {
   "cell_type": "markdown",
   "id": "506fa680-0e47-4d34-bc54-a65d27a6c723",
   "metadata": {},
   "source": [
    "## 1.6 Export"
   ]
  },
  {
   "cell_type": "code",
   "execution_count": 9,
   "id": "355d461d-a892-436f-b800-9d826f67f471",
   "metadata": {},
   "outputs": [
    {
     "name": "stdout",
     "output_type": "stream",
     "text": [
      "Exported merged DataFrame to data/intermediate/merged_data_nz.csv\n",
      "Exported raw OECD DataFrame to data/raw/oecd.csv\n"
     ]
    }
   ],
   "source": [
    "def export_data(df_merged, df_oecd_raw):\n",
    "    \"\"\"Exports the merged and raw OECD DataFrames to CSV files.\"\"\"\n",
    "    os.makedirs(\"data/intermediate/\", exist_ok=True)\n",
    "    df_merged.to_csv(\"data/intermediate/merged_data_nz.csv\")\n",
    "    print(\"Exported merged DataFrame to data/intermediate/merged_data_nz.csv\")\n",
    "    os.makedirs(\"data/raw/\", exist_ok=True)\n",
    "    df_oecd_raw.to_csv(\"data/raw/oecd.csv\")\n",
    "    print(\"Exported raw OECD DataFrame to data/raw/oecd.csv\")\n",
    "export_data(df_merged.copy(), df_oecd_raw.copy())"
   ]
  },
  {
   "cell_type": "markdown",
   "id": "10a72314-8cf5-4c16-8bfa-b51a2ddf2bae",
   "metadata": {},
   "source": [
    "# 2. OOP: Making python files which use multiple tools (functions)"
   ]
  },
  {
   "cell_type": "markdown",
   "id": "9ca66d2b-1ff6-424f-9836-43188c3040f5",
   "metadata": {},
   "source": [
    "## 2.A OOP Basic Example"
   ]
  },
  {
   "cell_type": "code",
   "execution_count": 10,
   "id": "dd34a66b-6de5-4a1e-b34e-4f92f06d998f",
   "metadata": {},
   "outputs": [],
   "source": [
    "class SimpleOperationPerformer:\n",
    "    def perform_string_print(self, input_string):\n",
    "        print(\"Running perform_string_print...\")\n",
    "        result = input_string\n",
    "        print(f\"The result of string_print function: {result}\")\n",
    "        return result\n",
    "\n",
    "    def perform_addition(self, num1, num2, num3):\n",
    "        print(\"Running perform_addition...\")\n",
    "        final = num1 + num2 + num3\n",
    "        print(f\"The result of add_func function: {final}\")\n",
    "        return final\n",
    "\n",
    "    def run_all_operations(self):\n",
    "        print(\"\\nStarting run_all_operations...\")\n",
    "        self.perform_string_print('LOOK MOM I CAN PRINT')\n",
    "        self.perform_addition(5, 3, 2)\n",
    "        print(\"Finished run_all_operations.\")"
   ]
  },
  {
   "cell_type": "code",
   "execution_count": 11,
   "id": "4258c3f3-4227-4002-bdf1-ad6a18df8648",
   "metadata": {},
   "outputs": [],
   "source": [
    "# Let's create our SimpleOperationPerformer tool\n",
    "ot = SimpleOperationPerformer()"
   ]
  },
  {
   "cell_type": "code",
   "execution_count": 12,
   "id": "7f03aaa1-a178-46dc-87f9-5ddfae9ac476",
   "metadata": {},
   "outputs": [
    {
     "name": "stdout",
     "output_type": "stream",
     "text": [
      "\n",
      "Running operations individually:\n",
      "Running perform_string_print...\n",
      "The result of string_print function: Hello from individual call!\n",
      "Running perform_addition...\n",
      "The result of add_func function: 60\n",
      "\n",
      "Starting run_all_operations...\n",
      "Running perform_string_print...\n",
      "The result of string_print function: LOOK MOM I CAN PRINT\n",
      "Running perform_addition...\n",
      "The result of add_func function: 10\n",
      "Finished run_all_operations.\n"
     ]
    }
   ],
   "source": [
    "# Now, let's tell it to run each action individually\n",
    "print(\"\\nRunning operations individually:\")\n",
    "ot.perform_string_print('Hello from individual call!')\n",
    "ot.perform_addition(10, 20, 30)\n",
    "\n",
    "# And let's also run all operations together\n",
    "ot.run_all_operations()"
   ]
  },
  {
   "cell_type": "code",
   "execution_count": 13,
   "id": "6b77800b-5d6b-470b-8c74-08cbba4eb109",
   "metadata": {},
   "outputs": [],
   "source": [
    "# --- Relating to pandas ---\n",
    "# In pandas, you often create a 'DataFrame' which is like a table.\n",
    "# Our 'SimpleOperationPerformer' (now called 'ot') is like a tool\n",
    "# that can do things with data, similar to how you can perform\n",
    "# operations on a pandas DataFrame (like calculating sums or printing parts).\n",
    "\n",
    "# For example, if a pandas DataFrame was called 'df', you might do:\n",
    "# print(df.head())  # This is like our 'perform_string_print' showing the start.\n",
    "# total = df['column_name'].sum() # This is like our 'perform_addition' calculating a total.\n",
    "\n",
    "# 'ot' is a simple tool we made, while pandas provides more powerful tools\n",
    "# for working with tables of data."
   ]
  },
  {
   "cell_type": "markdown",
   "id": "b98bb07b-198c-4439-aa54-4297cea5baf9",
   "metadata": {},
   "source": [
    "## 2.2 Create tool to download and transform our data like in 1.1"
   ]
  },
  {
   "cell_type": "code",
   "execution_count": 14,
   "id": "9ebf35f3-d3f2-4c54-8a42-d245a7ae0ebf",
   "metadata": {},
   "outputs": [
    {
     "data": {
      "text/plain": [
       "'data/intermediate/'"
      ]
     },
     "execution_count": 14,
     "metadata": {},
     "output_type": "execute_result"
    }
   ],
   "source": [
    "# Think of '__init__' as the special setup step when you create a new startup tool.\n",
    "# It's like the instructions for getting the tool ready to use.\n",
    "\n",
    "class DataProcessor:\n",
    "    # '__init__' is a special function that runs automatically when you make a DataProcessor tool.\n",
    "    def __init__(self, intermediate_folder=\"data/intermediate/\", raw_folder=\"data/raw/\"):\n",
    "        # Inside '__init__', we're giving our new startup tool some initial settings.\n",
    "        # 'self' here just refers to the specific DataProcessor tool you are creating.\n",
    "        # We're setting up where this tool will look for and store its information.\n",
    "        self.intermediate_folder = intermediate_folder  # This tells the tool where to put partially finished data.\n",
    "        self.raw_folder = raw_folder                    # This tells the tool where the original data is kept.\n",
    "\n",
    "# Let's say you want to create a DataProcessor startup tool to organize your files.\n",
    "# When you do this: The '__init__' function automatically runs. It configures the 'intermediate_folder'\n",
    "dp = DataProcessor()\n",
    "\n",
    "# Now, if you want to know where this specific 'dp' tool is storing its intermediate files, you can ask:\n",
    "dp.intermediate_folder"
   ]
  },
  {
   "cell_type": "code",
   "execution_count": 15,
   "id": "cfab02aa-78a1-496c-bdb1-b564a6629e07",
   "metadata": {},
   "outputs": [
    {
     "data": {
      "text/plain": [
       "'data/raw/'"
      ]
     },
     "execution_count": 15,
     "metadata": {},
     "output_type": "execute_result"
    }
   ],
   "source": [
    "# Once we create this dp we can see the stored self information \n",
    "dp.raw_folder"
   ]
  },
  {
   "cell_type": "markdown",
   "id": "709820e9-9a23-4375-942c-fac84f94ae6d",
   "metadata": {},
   "source": [
    "## 2.3 Init plus another tool"
   ]
  },
  {
   "cell_type": "code",
   "execution_count": 16,
   "id": "3abac2e9-ede5-44fc-b9a0-cf54df8848a0",
   "metadata": {},
   "outputs": [
    {
     "data": {
      "text/html": [
       "<div>\n",
       "<style scoped>\n",
       "    .dataframe tbody tr th:only-of-type {\n",
       "        vertical-align: middle;\n",
       "    }\n",
       "\n",
       "    .dataframe tbody tr th {\n",
       "        vertical-align: top;\n",
       "    }\n",
       "\n",
       "    .dataframe thead th {\n",
       "        text-align: right;\n",
       "    }\n",
       "</style>\n",
       "<table border=\"1\" class=\"dataframe\">\n",
       "  <thead>\n",
       "    <tr style=\"text-align: right;\">\n",
       "      <th></th>\n",
       "      <th>ISO3</th>\n",
       "      <th>year</th>\n",
       "      <th>ADB_infl</th>\n",
       "      <th>AHSTAT_infl</th>\n",
       "      <th>AMF_infl</th>\n",
       "      <th>BCEAO_infl</th>\n",
       "      <th>BIS_infl</th>\n",
       "      <th>BORDO_infl</th>\n",
       "      <th>CEPAC_infl</th>\n",
       "      <th>EUS_infl</th>\n",
       "      <th>...</th>\n",
       "      <th>OECD_KEI_infl</th>\n",
       "      <th>WB_CC_infl</th>\n",
       "      <th>WDI_infl</th>\n",
       "      <th>WDI_ARC_infl</th>\n",
       "      <th>CS1_infl</th>\n",
       "      <th>CS2_infl</th>\n",
       "      <th>infl</th>\n",
       "      <th>chainlinking_ratio</th>\n",
       "      <th>source</th>\n",
       "      <th>source_change</th>\n",
       "    </tr>\n",
       "  </thead>\n",
       "  <tbody>\n",
       "    <tr>\n",
       "      <th>0</th>\n",
       "      <td>ZWE</td>\n",
       "      <td>2029.0</td>\n",
       "      <td>NaN</td>\n",
       "      <td>NaN</td>\n",
       "      <td>NaN</td>\n",
       "      <td>NaN</td>\n",
       "      <td>NaN</td>\n",
       "      <td>NaN</td>\n",
       "      <td>NaN</td>\n",
       "      <td>NaN</td>\n",
       "      <td>...</td>\n",
       "      <td>NaN</td>\n",
       "      <td>NaN</td>\n",
       "      <td>NaN</td>\n",
       "      <td>NaN</td>\n",
       "      <td>NaN</td>\n",
       "      <td>NaN</td>\n",
       "      <td>5.131044</td>\n",
       "      <td>1.0</td>\n",
       "      <td>IMF_WEO</td>\n",
       "      <td>NaN</td>\n",
       "    </tr>\n",
       "    <tr>\n",
       "      <th>1</th>\n",
       "      <td>ZWE</td>\n",
       "      <td>2028.0</td>\n",
       "      <td>NaN</td>\n",
       "      <td>NaN</td>\n",
       "      <td>NaN</td>\n",
       "      <td>NaN</td>\n",
       "      <td>NaN</td>\n",
       "      <td>NaN</td>\n",
       "      <td>NaN</td>\n",
       "      <td>NaN</td>\n",
       "      <td>...</td>\n",
       "      <td>NaN</td>\n",
       "      <td>NaN</td>\n",
       "      <td>NaN</td>\n",
       "      <td>NaN</td>\n",
       "      <td>NaN</td>\n",
       "      <td>NaN</td>\n",
       "      <td>5.108963</td>\n",
       "      <td>1.0</td>\n",
       "      <td>IMF_WEO</td>\n",
       "      <td>NaN</td>\n",
       "    </tr>\n",
       "  </tbody>\n",
       "</table>\n",
       "<p>2 rows × 33 columns</p>\n",
       "</div>"
      ],
      "text/plain": [
       "  ISO3    year  ADB_infl  AHSTAT_infl  AMF_infl  BCEAO_infl  BIS_infl  \\\n",
       "0  ZWE  2029.0       NaN          NaN       NaN         NaN       NaN   \n",
       "1  ZWE  2028.0       NaN          NaN       NaN         NaN       NaN   \n",
       "\n",
       "   BORDO_infl  CEPAC_infl  EUS_infl  ...  OECD_KEI_infl  WB_CC_infl  WDI_infl  \\\n",
       "0         NaN         NaN       NaN  ...            NaN         NaN       NaN   \n",
       "1         NaN         NaN       NaN  ...            NaN         NaN       NaN   \n",
       "\n",
       "   WDI_ARC_infl  CS1_infl  CS2_infl      infl  chainlinking_ratio   source  \\\n",
       "0           NaN       NaN       NaN  5.131044                 1.0  IMF_WEO   \n",
       "1           NaN       NaN       NaN  5.108963                 1.0  IMF_WEO   \n",
       "\n",
       "   source_change  \n",
       "0            NaN  \n",
       "1            NaN  \n",
       "\n",
       "[2 rows x 33 columns]"
      ]
     },
     "execution_count": 16,
     "metadata": {},
     "output_type": "execute_result"
    }
   ],
   "source": [
    "# Think of '__init__' as the special setup step when you create a new startup tool.\n",
    "# It's like the instructions for getting the tool ready to use.\n",
    "\n",
    "import pandas as pd\n",
    "import requests\n",
    "import io\n",
    "\n",
    "class DataProcessor:\n",
    "    # '__init__' is a special function that runs automatically when you make a DataProcessor tool.\n",
    "    def __init__(self, intermediate_folder=\"intermediate/\", raw_folder=\"raw/\"):\n",
    "        # Inside '__init__', we're giving our new startup tool some initial settings.\n",
    "        # 'self' here just refers to the specific DataProcessor tool you are creating.\n",
    "        # We're setting up where this tool will look for and store its information.\n",
    "        self.intermediate_folder = intermediate_folder  # This tells the tool where to put partially finished info.\n",
    "        self.raw_folder = raw_folder                    # This tells the tool where the original info is kept.\n",
    "        self.df_macro = None                             # This will hold macro info after we download it.\n",
    "        self.df_oecd = None                              # This will hold OECD info after we download it.\n",
    "\n",
    "    # This is a new ability for our tool: downloading macro info from a website.\n",
    "    def download_macro(self, macro_url):\n",
    "        # We use a special tool (pd.read_stata) to read the info directly from the web address.\n",
    "        self.df_macro = pd.read_stata(macro_url)\n",
    "        # Once downloaded, we store the info within our tool and then give it back.\n",
    "        return self.df_macro\n",
    "\n",
    "    # Here's another new ability: downloading info from the OECD website.\n",
    "    def download_oecd(self, oecd_url):\n",
    "        # We ask the website for the info.\n",
    "        response = requests.get(oecd_url)\n",
    "        # If something went wrong while asking, this will let us know.\n",
    "        response.raise_for_status()\n",
    "        # We take the text info we got and treat it like a file.\n",
    "        data = io.StringIO(response.text)\n",
    "        # Then, we use another special tool (pd.read_csv) to understand this info.\n",
    "        self.df_oecd = pd.read_csv(data)\n",
    "        # We store this info in our tool and then give it back.\n",
    "        return self.df_oecd\n",
    "\n",
    "# Let's say you want to create a DataProcessor startup tool to organize your files and download data.\n",
    "# When you do this: The '__init__' function automatically runs, setting up the initial storage locations\n",
    "dp = DataProcessor()\n",
    "\n",
    "# Now, we're telling our 'dp' tool to download data from the provided web addresses:\n",
    "macro_df = dp.download_macro(\n",
    "    macro_url = 'https://github.com/KMueller-Lab/Global-Macro-Database/raw/refs/heads/main/data/final/chainlinked_infl.dta'\n",
    ")\n",
    "dp.df_macro.head(2)"
   ]
  },
  {
   "cell_type": "code",
   "execution_count": 17,
   "id": "26450c0f-783e-4351-b8e3-292320b9185e",
   "metadata": {},
   "outputs": [
    {
     "data": {
      "text/html": [
       "<div>\n",
       "<style scoped>\n",
       "    .dataframe tbody tr th:only-of-type {\n",
       "        vertical-align: middle;\n",
       "    }\n",
       "\n",
       "    .dataframe tbody tr th {\n",
       "        vertical-align: top;\n",
       "    }\n",
       "\n",
       "    .dataframe thead th {\n",
       "        text-align: right;\n",
       "    }\n",
       "</style>\n",
       "<table border=\"1\" class=\"dataframe\">\n",
       "  <thead>\n",
       "    <tr style=\"text-align: right;\">\n",
       "      <th></th>\n",
       "      <th>DATAFLOW</th>\n",
       "      <th>REF_AREA</th>\n",
       "      <th>FREQ</th>\n",
       "      <th>MEASURE</th>\n",
       "      <th>ACTIVITY</th>\n",
       "      <th>UNIT_MEASURE</th>\n",
       "      <th>PRICE_BASE</th>\n",
       "      <th>TRANSFORMATION</th>\n",
       "      <th>ADJUSTMENT</th>\n",
       "      <th>CONVERSION_TYPE</th>\n",
       "      <th>TIME_PERIOD</th>\n",
       "      <th>OBS_VALUE</th>\n",
       "      <th>OBS_STATUS</th>\n",
       "      <th>UNIT_MULT</th>\n",
       "      <th>BASE_PER</th>\n",
       "      <th>DECIMALS</th>\n",
       "    </tr>\n",
       "  </thead>\n",
       "  <tbody>\n",
       "    <tr>\n",
       "      <th>0</th>\n",
       "      <td>OECD.SDD.TPS:DSD_PDB@DF_PDB_ULC_Q(1.0)</td>\n",
       "      <td>DNK</td>\n",
       "      <td>Q</td>\n",
       "      <td>LCEMP</td>\n",
       "      <td>_T</td>\n",
       "      <td>PA</td>\n",
       "      <td>V</td>\n",
       "      <td>GY</td>\n",
       "      <td>S</td>\n",
       "      <td>NC</td>\n",
       "      <td>2017-Q3</td>\n",
       "      <td>1.793888</td>\n",
       "      <td>A</td>\n",
       "      <td>0</td>\n",
       "      <td>NaN</td>\n",
       "      <td>2</td>\n",
       "    </tr>\n",
       "    <tr>\n",
       "      <th>1</th>\n",
       "      <td>OECD.SDD.TPS:DSD_PDB@DF_PDB_ULC_Q(1.0)</td>\n",
       "      <td>DNK</td>\n",
       "      <td>Q</td>\n",
       "      <td>LCEMP</td>\n",
       "      <td>_T</td>\n",
       "      <td>PA</td>\n",
       "      <td>V</td>\n",
       "      <td>GY</td>\n",
       "      <td>S</td>\n",
       "      <td>NC</td>\n",
       "      <td>2017-Q2</td>\n",
       "      <td>1.108080</td>\n",
       "      <td>A</td>\n",
       "      <td>0</td>\n",
       "      <td>NaN</td>\n",
       "      <td>2</td>\n",
       "    </tr>\n",
       "  </tbody>\n",
       "</table>\n",
       "</div>"
      ],
      "text/plain": [
       "                                 DATAFLOW REF_AREA FREQ MEASURE ACTIVITY  \\\n",
       "0  OECD.SDD.TPS:DSD_PDB@DF_PDB_ULC_Q(1.0)      DNK    Q   LCEMP       _T   \n",
       "1  OECD.SDD.TPS:DSD_PDB@DF_PDB_ULC_Q(1.0)      DNK    Q   LCEMP       _T   \n",
       "\n",
       "  UNIT_MEASURE PRICE_BASE TRANSFORMATION ADJUSTMENT CONVERSION_TYPE  \\\n",
       "0           PA          V             GY          S              NC   \n",
       "1           PA          V             GY          S              NC   \n",
       "\n",
       "  TIME_PERIOD  OBS_VALUE OBS_STATUS  UNIT_MULT  BASE_PER  DECIMALS  \n",
       "0     2017-Q3   1.793888          A          0       NaN         2  \n",
       "1     2017-Q2   1.108080          A          0       NaN         2  "
      ]
     },
     "execution_count": 17,
     "metadata": {},
     "output_type": "execute_result"
    }
   ],
   "source": [
    "# The 'download_macro' ability is used to get the macro information, and we're saving\n",
    "# the downloaded info into a new container called 'macro_df'.\n",
    "\n",
    "oecd_df = dp.download_oecd(\n",
    "    oecd_url = \"https://sdmx.oecd.org/public/rest/data/OECD.SDD.TPS,DSD_PDB@DF_PDB_ULC_Q,1.0/.Q.......?startPeriod=1990-Q4&format=csv\"\n",
    ")\n",
    "dp.df_oecd.head(2)\n"
   ]
  },
  {
   "cell_type": "markdown",
   "id": "dc36a5ab-b30c-4112-bbc9-ddb3ddb554d0",
   "metadata": {},
   "source": [
    "## 2.4 Convert all of 1.2 to a python file"
   ]
  },
  {
   "cell_type": "code",
   "execution_count": 21,
   "id": "017f0a4e-b208-4b9f-8bc9-1fcaba430d68",
   "metadata": {},
   "outputs": [],
   "source": [
    "# Think of '__init__' as the special setup step when you create a new startup tool.\n",
    "# It's like the instructions for getting the tool ready to use.\n",
    "\n",
    "import pandas as pd\n",
    "import requests\n",
    "import io\n",
    "import os\n",
    "\n",
    "class DataProcessor:\n",
    "    # '__init__' is a special function that runs automatically when you make a DataProcessor tool.\n",
    "    def __init__(self, intermediate_folder=\"intermediate/\", raw_folder=\"raw/\"):\n",
    "        # Inside '__init__', we're giving our new startup tool some initial settings.\n",
    "        # 'self' here just refers to the specific DataProcessor tool you are creating.\n",
    "        # We're setting up where this tool will look for and store its information.\n",
    "        self.intermediate_folder = intermediate_folder  # Where we'll put partially finished info.\n",
    "        self.raw_folder = raw_folder                    # Where the original info is kept.\n",
    "        self.df_macro = None                             # Will hold macro info after download.\n",
    "        self.df_oecd = None                              # Will hold OECD info after download.\n",
    "        self.df_macro_nz = None                          # Will hold filtered and renamed NZ macro info.\n",
    "        self.df_oecd_nz = None                           # Will hold filtered and renamed NZ OECD info.\n",
    "        self.df_merged = None                            # Will hold the combined info.\n",
    "\n",
    "    # This is a new ability for our tool: downloading macro info from a website.\n",
    "    def download_macro(self, macro_url):\n",
    "        print(\"Running download_macro...\")\n",
    "        self.df_macro = pd.read_stata(macro_url)\n",
    "        print(\"Macro data downloaded successfully.\")\n",
    "        return self.df_macro\n",
    "\n",
    "    # Here's another new ability: downloading info from the OECD website.\n",
    "    def download_oecd(self, oecd_url):\n",
    "        print(\"Running download_oecd...\")\n",
    "        response = requests.get(oecd_url)\n",
    "        response.raise_for_status()\n",
    "        data = io.StringIO(response.text)\n",
    "        self.df_oecd = pd.read_csv(data)\n",
    "        print(\"OECD data downloaded successfully.\")\n",
    "        return self.df_oecd\n",
    "\n",
    "    # This ability filters the macro info to only include data for New Zealand (NZL),\n",
    "    # selects specific columns, removes any missing data, and renames the columns.\n",
    "    def filter_rename_macro_nz(self):\n",
    "        print(\"Running filter_rename_macro_nz...\")\n",
    "        self.df_macro_nz = self.df_macro.query(\"ISO3 == 'NZL'\")[['ISO3', 'year', 'OECD_KEI_infl', 'BIS_infl']].dropna().copy()\n",
    "        self.df_macro_nz.rename({\"ISO3\":'country', \"year\":'date'}, axis=1, inplace=True)\n",
    "        print(\"Macro data filtered and renamed for NZ.\")\n",
    "        return self.df_macro_nz\n",
    "\n",
    "    # This ability filters the OECD info to only include data for New Zealand (NZL)\n",
    "    # for a specific measure ('ULCE') and unit ('PA'), selects relevant columns,\n",
    "    # renames them, and removes unnecessary columns.\n",
    "    def filter_rename_oecd_nz(self):\n",
    "        print(\"Running filter_rename_oecd_nz...\")\n",
    "        cols_oecd = ['REF_AREA', 'TIME_PERIOD', 'OBS_VALUE', 'MEASURE', 'UNIT_MEASURE']\n",
    "        self.df_oecd_nz = self.df_oecd[cols_oecd].query(\"REF_AREA == 'NZL' & MEASURE=='ULCE' & UNIT_MEASURE == 'PA'\").copy()\n",
    "        self.df_oecd_nz.rename({\"REF_AREA\":'country', \"TIME_PERIOD\":'date', 'OBS_VALUE':'ULCE'}, axis=1, inplace=True)\n",
    "        self.df_oecd_nz.drop([\"MEASURE\", \"UNIT_MEASURE\"], axis=1, inplace=True)\n",
    "        print(\"OECD data filtered and renamed for NZ.\")\n",
    "        return self.df_oecd_nz\n",
    "\n",
    "    # This ability converts the 'date' column in the New Zealand macro info\n",
    "    # from a year format to a standard date format.\n",
    "    def convert_datetime_macro_nz(self):\n",
    "        print(\"Running convert_datetime_macro_nz...\")\n",
    "        self.df_macro_nz['date'] = pd.to_datetime(self.df_macro_nz['date'], format = '%Y').dt.date\n",
    "        print(\"Macro dates converted to datetime.\")\n",
    "        return self.df_macro_nz\n",
    "\n",
    "    # This ability converts the 'date' column in the New Zealand OECD info\n",
    "    # from a quarterly format (like '1990-Q4') to a standard date format.\n",
    "    def convert_datetime_oecd_nz(self):\n",
    "        print(\"Running convert_datetime_oecd_nz...\")\n",
    "        self.df_oecd_nz['date'] = pd.PeriodIndex(self.df_oecd_nz['date'], freq='Q').to_timestamp().date\n",
    "        print(\"OECD dates converted to datetime.\")\n",
    "        return self.df_oecd_nz\n",
    "\n",
    "    # This ability sets the 'country' and 'date' columns as the main identifiers (index)\n",
    "    # for the New Zealand macro info. This helps in combining data later.\n",
    "    def set_index_macro_nz(self):\n",
    "        print(\"Running set_index_macro_nz...\")\n",
    "        self.df_macro_nz.set_index(['country', 'date'], inplace=True)\n",
    "        print(\"Macro data index set to country and date.\")\n",
    "        return self.df_macro_nz\n",
    "\n",
    "    # This ability does the same as above, but for the New Zealand OECD info.\n",
    "    def set_index_oecd_nz(self):\n",
    "        print(\"Running set_index_oecd_nz...\")\n",
    "        self.df_oecd_nz.set_index(['country', 'date'], inplace=True)\n",
    "        print(\"OECD data index set to country and date.\")\n",
    "        return self.df_oecd_nz\n",
    "\n",
    "    # This ability combines the New Zealand macro and OECD info into a single table\n",
    "    # based on matching 'country' and 'date'. It only keeps the data that exists in both tables.\n",
    "    def merge_data(self):\n",
    "        print(\"Running merge_data...\")\n",
    "        self.df_merged = pd.merge(\n",
    "            self.df_macro_nz,\n",
    "            self.df_oecd_nz,\n",
    "            right_index = True,\n",
    "            left_index = True,\n",
    "            how = 'inner'\n",
    "        )\n",
    "        print(\"Macro and OECD data merged.\")\n",
    "        return self.df_merged\n",
    "\n",
    "    # This ability handles exporting our processed data to files.\n",
    "    def export_data(self, output_dir_intermediate=\"data/intermediate/processed/\", output_dir_raw=\"data/raw/\"):\n",
    "        print(\"Running export_data...\")\n",
    "        os.makedirs(output_dir_intermediate, exist_ok=True)\n",
    "        merged_filepath = os.path.join(output_dir_intermediate, \"merged_data_nz.csv\")\n",
    "        self.df_merged.to_csv(merged_filepath)\n",
    "        print(f\"Merged data exported to: {merged_filepath}\")\n",
    "\n",
    "        os.makedirs(output_dir_raw, exist_ok=True)\n",
    "        raw_oecd_filepath = os.path.join(output_dir_raw, \"oecd_raw.csv\")\n",
    "        self.df_oecd.to_csv(raw_oecd_filepath)\n",
    "        print(f\"Raw OECD data exported to: {raw_oecd_filepath}\")\n"
   ]
  },
  {
   "cell_type": "code",
   "execution_count": 19,
   "id": "10529a60-1b33-46c2-87ad-4fa520419f10",
   "metadata": {},
   "outputs": [
    {
     "name": "stdout",
     "output_type": "stream",
     "text": [
      "Running download_macro...\n",
      "Macro data downloaded successfully.\n",
      "Running download_oecd...\n",
      "OECD data downloaded successfully.\n",
      "Running filter_rename_macro_nz...\n",
      "Macro data filtered and renamed for NZ.\n",
      "Running filter_rename_oecd_nz...\n",
      "OECD data filtered and renamed for NZ.\n",
      "Running convert_datetime_macro_nz...\n",
      "Macro dates converted to datetime.\n",
      "Running convert_datetime_oecd_nz...\n",
      "OECD dates converted to datetime.\n",
      "Running set_index_macro_nz...\n",
      "Macro data index set to country and date.\n",
      "Running set_index_oecd_nz...\n",
      "OECD data index set to country and date.\n",
      "Running merge_data...\n",
      "Macro and OECD data merged.\n",
      "Running export_data...\n",
      "Merged data exported to: intermediate/processed/merged_data_nz.csv\n",
      "Raw OECD data exported to: raw/oecd_raw.csv\n"
     ]
    }
   ],
   "source": [
    "# Let's create our DataProcessor tool.\n",
    "processor = DataProcessor()\n",
    "\n",
    "# Now, let's define the web addresses for our data:\n",
    "macro_data_url = 'https://github.com/KMueller-Lab/Global-Macro-Database/raw/refs/heads/main/data/final/chainlinked_infl.dta'\n",
    "oecd_data_url = \"https://sdmx.oecd.org/public/rest/data/OECD.SDD.TPS,DSD_PDB@DF_PDB_ULC_Q,1.0/.Q.......?startPeriod=1990-Q4&format=csv\"\n",
    "\n",
    "# Now, we will run each method of our 'processor' tool one by one.\n",
    "\n",
    "# 1. Download macro data\n",
    "macro_df = processor.download_macro(macro_data_url)\n",
    "\n",
    "# 2. Download OECD data\n",
    "oecd_df = processor.download_oecd(oecd_data_url)\n",
    "\n",
    "# 3. Filter and rename macro data for New Zealand\n",
    "macro_nz_df = processor.filter_rename_macro_nz()\n",
    "\n",
    "# 4. Filter and rename OECD data for New Zealand\n",
    "oecd_nz_df = processor.filter_rename_oecd_nz()\n",
    "\n",
    "# 5. Convert datetime in macro data\n",
    "macro_nz_df_dt = processor.convert_datetime_macro_nz()\n",
    "\n",
    "# 6. Convert datetime in OECD data\n",
    "oecd_nz_df_dt = processor.convert_datetime_oecd_nz()\n",
    "\n",
    "# 7. Set index for macro data\n",
    "macro_nz_df_indexed = processor.set_index_macro_nz()\n",
    "\n",
    "# 8. Set index for OECD data\n",
    "oecd_nz_df_indexed = processor.set_index_oecd_nz()\n",
    "\n",
    "# 9. Merge the two datasets\n",
    "merged_df = processor.merge_data()\n",
    "\n",
    "# 10. Export the processed and raw data\n",
    "processor.export_data()"
   ]
  },
  {
   "cell_type": "markdown",
   "id": "c3d5fdc5-ecee-4fb4-94e4-3c7af6e4f071",
   "metadata": {},
   "source": [
    "# 3.A Creating python files outside of the notebooks\n",
    "\n",
    "### 3.A.1 This notebook and the files are \"far\" away"
   ]
  },
  {
   "cell_type": "code",
   "execution_count": 32,
   "id": "16a5c83b-14c1-4ff3-a7b4-c351898849aa",
   "metadata": {},
   "outputs": [
    {
     "data": {
      "text/plain": [
       "['function_import_data.py',\n",
       " 'oop_basic.py',\n",
       " 'oop_manipulate_save.py',\n",
       " 'oop_import_data_notebook.py',\n",
       " 'oop_import_data.py',\n",
       " '__pycache__',\n",
       " 'function_manipulate_save.py',\n",
       " 'function_basic.py']"
      ]
     },
     "execution_count": 32,
     "metadata": {},
     "output_type": "execute_result"
    }
   ],
   "source": [
    "import os\n",
    "#Our python files are always in the src folder\n",
    "os.listdir(\"../../../src/examples/\")"
   ]
  },
  {
   "cell_type": "markdown",
   "id": "14809d7c-a3d8-4872-aed5-a9764c5b4fa7",
   "metadata": {},
   "source": [
    "### 2.A.2 We must \"add\" the location of the python files to use"
   ]
  },
  {
   "cell_type": "code",
   "execution_count": 23,
   "id": "e74551f9-3e5e-47f4-a658-9a98244f3d23",
   "metadata": {},
   "outputs": [],
   "source": [
    "import sys\n",
    "sys.path.append(\"../../../src/examples/\")"
   ]
  },
  {
   "cell_type": "markdown",
   "id": "840187c8-c009-49d4-89bd-4e940c8ccd59",
   "metadata": {},
   "source": [
    "## 3.1 Importing functions from python file"
   ]
  },
  {
   "cell_type": "code",
   "execution_count": 24,
   "id": "caff4ba7-b167-468f-9ef2-bb376fa9c4ae",
   "metadata": {},
   "outputs": [
    {
     "name": "stdout",
     "output_type": "stream",
     "text": [
      "The result of string_print function: LOOK MOM I CAN PRINT\n",
      "The result of add_func function: 10\n"
     ]
    },
    {
     "data": {
      "text/plain": [
       "'yes'"
      ]
     },
     "execution_count": 24,
     "metadata": {},
     "output_type": "execute_result"
    }
   ],
   "source": [
    "# Import functions individual\n",
    "from function_basic import string_print\n",
    "string_print('yes')"
   ]
  },
  {
   "cell_type": "code",
   "execution_count": 25,
   "id": "f51fa223-827a-47c1-bd34-7246b88ef7a6",
   "metadata": {},
   "outputs": [
    {
     "data": {
      "text/plain": [
       "10"
      ]
     },
     "execution_count": 25,
     "metadata": {},
     "output_type": "execute_result"
    }
   ],
   "source": [
    "from function_basic import add_func\n",
    "add_func(5, 3, 2)"
   ]
  },
  {
   "cell_type": "code",
   "execution_count": 26,
   "id": "3c2d9dc3-3692-4381-ae0f-9e37a001f3c0",
   "metadata": {},
   "outputs": [
    {
     "data": {
      "text/plain": [
       "'yes'"
      ]
     },
     "execution_count": 26,
     "metadata": {},
     "output_type": "execute_result"
    }
   ],
   "source": [
    "# Or import all the functions from one specific python file\n",
    "# Restart the kernal and run this it should work\n",
    "from function_basic import *\n",
    "add_func(5, 3, 2)\n",
    "string_print('yes')"
   ]
  },
  {
   "cell_type": "markdown",
   "id": "213e0a06-3341-4eec-ba45-818767fab93e",
   "metadata": {},
   "source": [
    "## 3.2 Sometimes it is tricky to run python files from notebook"
   ]
  },
  {
   "cell_type": "code",
   "execution_count": 33,
   "id": "e8ffd422-3925-413b-8b11-35acf3584173",
   "metadata": {},
   "outputs": [],
   "source": [
    "#from function_import_data import *"
   ]
  },
  {
   "cell_type": "markdown",
   "id": "13a495ed-0c5b-4ad6-8309-85b712069e9c",
   "metadata": {},
   "source": [
    "## 3.3. OOP: The type of files we like to run from notebooks"
   ]
  },
  {
   "cell_type": "code",
   "execution_count": 34,
   "id": "e92e7923-797f-43b6-a7e0-eefb509a243c",
   "metadata": {},
   "outputs": [],
   "source": [
    "# Import function\n",
    "from oop_basic import SimpleOperationPerformer"
   ]
  },
  {
   "cell_type": "code",
   "execution_count": 35,
   "id": "c40c2899-3861-4bfe-8740-3bc24b4adb27",
   "metadata": {},
   "outputs": [],
   "source": [
    "# Create tool: This is the same as the Pandas library\n",
    "my_pd = SimpleOperationPerformer()"
   ]
  },
  {
   "cell_type": "code",
   "execution_count": 36,
   "id": "05dbc1d9-2d0a-41fd-a9c4-98438b7208b1",
   "metadata": {},
   "outputs": [
    {
     "name": "stdout",
     "output_type": "stream",
     "text": [
      "Running perform_string_print...\n",
      "The result of string_print function: Hello from individual call!\n",
      "Running perform_addition...\n",
      "The result of add_func function: 60\n"
     ]
    },
    {
     "data": {
      "text/plain": [
       "60"
      ]
     },
     "execution_count": 36,
     "metadata": {},
     "output_type": "execute_result"
    }
   ],
   "source": [
    "# Use the tools in the my_pd library\n",
    "my_pd.perform_string_print('Hello from individual call!')\n",
    "my_pd.perform_addition(10, 20, 30)"
   ]
  },
  {
   "cell_type": "markdown",
   "id": "0da61244-bf1b-4bed-ae65-ad24a2619094",
   "metadata": {},
   "source": [
    "## 3.4 OOP: More advanced"
   ]
  },
  {
   "cell_type": "markdown",
   "id": "f106a6ca-d273-4c88-bee6-6501b7c70de9",
   "metadata": {},
   "source": [
    "### 3.4.1 Again it's tricky to run from notebook"
   ]
  },
  {
   "cell_type": "code",
   "execution_count": 37,
   "id": "4b6ad061-7f9e-412f-8a78-465bee83d3a8",
   "metadata": {},
   "outputs": [
    {
     "name": "stdout",
     "output_type": "stream",
     "text": [
      "Current python folder : /Users/corybaird/Desktop/graspp_2025_spring/src/examples\n",
      "Folder where all our files are located (base/root folder): /Users/corybaird/Desktop/graspp_2025_spring\n",
      "Data folder: /Users/corybaird/Desktop/graspp_2025_spring/data\n",
      "Starting the file processing...\n",
      "This file is run from the following path:\n",
      "\n",
      "\n",
      "/Users/corybaird/Desktop/graspp_2025_spring/notebooks/module_1/week_3\n",
      "\n",
      "\n",
      "Looking inside this folder: data/examples/module_1/week_1\n"
     ]
    },
    {
     "ename": "FileNotFoundError",
     "evalue": "[Errno 2] No such file or directory: 'data/examples/module_1/week_1'",
     "output_type": "error",
     "traceback": [
      "\u001b[31m---------------------------------------------------------------------------\u001b[39m",
      "\u001b[31mFileNotFoundError\u001b[39m                         Traceback (most recent call last)",
      "\u001b[36mCell\u001b[39m\u001b[36m \u001b[39m\u001b[32mIn[37]\u001b[39m\u001b[32m, line 1\u001b[39m\n\u001b[32m----> \u001b[39m\u001b[32m1\u001b[39m \u001b[38;5;28;01mfrom\u001b[39;00m\u001b[38;5;250m \u001b[39m\u001b[34;01moop_import_data\u001b[39;00m\u001b[38;5;250m \u001b[39m\u001b[38;5;28;01mimport\u001b[39;00m SimpleFileDataProcessor\n\u001b[32m      2\u001b[39m \u001b[38;5;66;03m# Let's create our SimpleFileDataProcessor tool\u001b[39;00m\n\u001b[32m      3\u001b[39m processor = SimpleFileDataProcessor(\n\u001b[32m      4\u001b[39m     file_location=\u001b[33m\"\u001b[39m\u001b[33mdata/examples/module_1/week_1\u001b[39m\u001b[33m\"\u001b[39m\n\u001b[32m      5\u001b[39m )\n",
      "\u001b[36mFile \u001b[39m\u001b[32m~/Desktop/graspp_2025_spring/notebooks/module_1/week_3/../../../src/examples/oop_import_data.py:82\u001b[39m\n\u001b[32m     77\u001b[39m processor = SimpleFileDataProcessor(\n\u001b[32m     78\u001b[39m         file_location=\u001b[33m\"\u001b[39m\u001b[33mdata/examples/module_1/week_1\u001b[39m\u001b[33m\"\u001b[39m\n\u001b[32m     79\u001b[39m )\n\u001b[32m     81\u001b[39m \u001b[38;5;66;03m# Now, let's tell it to do its job!\u001b[39;00m\n\u001b[32m---> \u001b[39m\u001b[32m82\u001b[39m \u001b[43mprocessor\u001b[49m\u001b[43m.\u001b[49m\u001b[43mrun_all_steps\u001b[49m\u001b[43m(\u001b[49m\u001b[43m)\u001b[49m\n",
      "\u001b[36mFile \u001b[39m\u001b[32m~/Desktop/graspp_2025_spring/notebooks/module_1/week_3/../../../src/examples/oop_import_data.py:72\u001b[39m, in \u001b[36mSimpleFileDataProcessor.run_all_steps\u001b[39m\u001b[34m(self)\u001b[39m\n\u001b[32m     70\u001b[39m \u001b[38;5;28mprint\u001b[39m(\u001b[33m\"\u001b[39m\u001b[33mStarting the file processing...\u001b[39m\u001b[33m\"\u001b[39m)\n\u001b[32m     71\u001b[39m \u001b[38;5;28mself\u001b[39m.show_current_location()\n\u001b[32m---> \u001b[39m\u001b[32m72\u001b[39m \u001b[38;5;28;43mself\u001b[39;49m\u001b[43m.\u001b[49m\u001b[43mlist_files_in_folder\u001b[49m\u001b[43m(\u001b[49m\u001b[43m)\u001b[49m\n\u001b[32m     73\u001b[39m \u001b[38;5;28mself\u001b[39m.load_data_from_csv()\n\u001b[32m     74\u001b[39m \u001b[38;5;28mprint\u001b[39m(\u001b[33m\"\u001b[39m\u001b[33mFinished processing.\u001b[39m\u001b[33m\"\u001b[39m)\n",
      "\u001b[36mFile \u001b[39m\u001b[32m~/Desktop/graspp_2025_spring/notebooks/module_1/week_3/../../../src/examples/oop_import_data.py:48\u001b[39m, in \u001b[36mSimpleFileDataProcessor.list_files_in_folder\u001b[39m\u001b[34m(self)\u001b[39m\n\u001b[32m     46\u001b[39m \u001b[38;5;28mprint\u001b[39m(\u001b[33m\"\u001b[39m\u001b[38;5;130;01m\\n\u001b[39;00m\u001b[33m\"\u001b[39m)\n\u001b[32m     47\u001b[39m \u001b[38;5;28mprint\u001b[39m(\u001b[33mf\u001b[39m\u001b[33m\"\u001b[39m\u001b[33mLooking inside this folder: \u001b[39m\u001b[38;5;132;01m{\u001b[39;00m\u001b[38;5;28mself\u001b[39m.file_location\u001b[38;5;132;01m}\u001b[39;00m\u001b[33m\"\u001b[39m)\n\u001b[32m---> \u001b[39m\u001b[32m48\u001b[39m \u001b[38;5;28mprint\u001b[39m(\u001b[43mos\u001b[49m\u001b[43m.\u001b[49m\u001b[43mlistdir\u001b[49m\u001b[43m(\u001b[49m\u001b[38;5;28;43mself\u001b[39;49m\u001b[43m.\u001b[49m\u001b[43mfile_location\u001b[49m\u001b[43m)\u001b[49m)\n\u001b[32m     49\u001b[39m \u001b[38;5;28mprint\u001b[39m()\n",
      "\u001b[31mFileNotFoundError\u001b[39m: [Errno 2] No such file or directory: 'data/examples/module_1/week_1'"
     ]
    }
   ],
   "source": [
    "from oop_import_data import SimpleFileDataProcessor\n",
    "# Let's create our SimpleFileDataProcessor tool\n",
    "processor = SimpleFileDataProcessor(\n",
    "    file_location=\"data/examples/module_1/week_1\"\n",
    ")\n",
    "\n",
    "# Now, let's tell it to do its job!\n",
    "processor.run_all_steps()"
   ]
  },
  {
   "cell_type": "markdown",
   "id": "16676b30-b38d-4f81-9d93-280a73daffb6",
   "metadata": {},
   "source": [
    "### 3.4.2 Must create some hacks to make the python file run"
   ]
  },
  {
   "cell_type": "code",
   "execution_count": 38,
   "id": "66d4d4c2-2acd-4dd6-be79-50f384a049d5",
   "metadata": {},
   "outputs": [
    {
     "name": "stdout",
     "output_type": "stream",
     "text": [
      "Current python folder : /Users/corybaird/Desktop/graspp_2025_spring/src/examples\n",
      "Folder where all our files are located (base/root folder): /Users/corybaird/Desktop/graspp_2025_spring\n",
      "Data folder: /Users/corybaird/Desktop/graspp_2025_spring/data\n",
      "Starting the file processing...\n",
      "This file is run from the following path:\n",
      "\n",
      "\n",
      "/Users/corybaird/Desktop/graspp_2025_spring/notebooks/module_1/week_3\n",
      "\n",
      "\n",
      "Looking inside this folder: /Users/corybaird/Desktop/graspp_2025_spring/data/examples/module_1/\n",
      "['world_bank_data.csv']\n",
      "\n",
      "Look mom this function imports data to pandas\n",
      "   Unnamed: 0                     indicator country countryiso3code  date  \\\n",
      "0           0  GDP per capita (current US$)  Canada             CAN  2023   \n",
      "1           1  GDP per capita (current US$)  Canada             CAN  2022   \n",
      "2           2  GDP per capita (current US$)  Canada             CAN  2021   \n",
      "3           3  GDP per capita (current US$)   Japan             JPN  2023   \n",
      "4           4  GDP per capita (current US$)   Japan             JPN  2022   \n",
      "\n",
      "          value  \n",
      "0  53431.185706  \n",
      "1  55509.393176  \n",
      "2  52496.844169  \n",
      "3  33766.526825  \n",
      "4  34017.271808  \n",
      "Finished processing.\n",
      "Starting the file processing...\n",
      "This file is run from the following path:\n",
      "\n",
      "\n",
      "/Users/corybaird/Desktop/graspp_2025_spring/notebooks/module_1/week_3\n",
      "\n",
      "\n",
      "Looking inside this folder: /Users/corybaird/Desktop/graspp_2025_spring/data/examples/module_1\n",
      "['world_bank_data.csv']\n",
      "\n",
      "Look mom this function imports data to pandas\n",
      "   Unnamed: 0                     indicator country countryiso3code  date  \\\n",
      "0           0  GDP per capita (current US$)  Canada             CAN  2023   \n",
      "1           1  GDP per capita (current US$)  Canada             CAN  2022   \n",
      "2           2  GDP per capita (current US$)  Canada             CAN  2021   \n",
      "3           3  GDP per capita (current US$)   Japan             JPN  2023   \n",
      "4           4  GDP per capita (current US$)   Japan             JPN  2022   \n",
      "\n",
      "          value  \n",
      "0  53431.185706  \n",
      "1  55509.393176  \n",
      "2  52496.844169  \n",
      "3  33766.526825  \n",
      "4  34017.271808  \n",
      "Finished processing.\n"
     ]
    }
   ],
   "source": [
    "import sys\n",
    "sys.path.append(\"../../../src/examples/\")\n",
    "from oop_import_data_notebook import SimpleFileDataProcessor\n",
    "# Let's create our SimpleFileDataProcessor tool\n",
    "processor = SimpleFileDataProcessor(\n",
    "    file_location=\"data/examples/module_1\"\n",
    ")\n",
    "\n",
    "# Now, let's tell it to do its job!\n",
    "processor.run_all_steps()"
   ]
  },
  {
   "cell_type": "markdown",
   "id": "9bc6ac96-2293-4ff4-8a5f-c55917230375",
   "metadata": {},
   "source": [
    "# 4. Running from command line/Powershell"
   ]
  },
  {
   "cell_type": "code",
   "execution_count": 39,
   "id": "84000861-a27f-41e3-b480-4088a18526ef",
   "metadata": {},
   "outputs": [
    {
     "data": {
      "text/plain": [
       "['function_import_data.py',\n",
       " 'oop_basic.py',\n",
       " 'oop_manipulate_save.py',\n",
       " 'oop_import_data_notebook.py',\n",
       " 'oop_import_data.py',\n",
       " '__pycache__',\n",
       " 'function_manipulate_save.py',\n",
       " 'function_basic.py']"
      ]
     },
     "execution_count": 39,
     "metadata": {},
     "output_type": "execute_result"
    }
   ],
   "source": [
    "import os\n",
    "os.listdir('../../../src/examples')"
   ]
  },
  {
   "cell_type": "markdown",
   "id": "25f702b3-c710-4f49-967f-26d05f8fe1d7",
   "metadata": {},
   "source": [
    "## Using terminal\n",
    "<img src=\"screenshots/terminal.png\" />\n"
   ]
  },
  {
   "cell_type": "markdown",
   "id": "ef1f639b-8265-41b9-84d2-d3e262aa307a",
   "metadata": {},
   "source": [
    "## Navigating terminal\n",
    "- ``cd``: changes folders\n",
    "- ``pwd``: shows current folder \n",
    "- ``ls``: Shows files\n",
    "    \n",
    "<img src=\"screenshots/pwd_ls.png\" />\n"
   ]
  },
  {
   "cell_type": "markdown",
   "id": "0db3b03d-8d40-4aec-9a30-fc3af7eff6b5",
   "metadata": {},
   "source": [
    "## Running python from terminal\n",
    "- ``cd``: changes folders\n",
    "- ``pwd``: shows current folder \n",
    "- ``ls``: Shows files\n",
    "    \n",
    "<img src=\"screenshots/python_run.png\" />\n"
   ]
  },
  {
   "cell_type": "code",
   "execution_count": null,
   "id": "b49f7753-7cfe-4e04-8f32-bba15f76d67f",
   "metadata": {},
   "outputs": [],
   "source": []
  }
 ],
 "metadata": {
  "kernelspec": {
   "display_name": "Python 3 (ipykernel)",
   "language": "python",
   "name": "python3"
  },
  "language_info": {
   "codemirror_mode": {
    "name": "ipython",
    "version": 3
   },
   "file_extension": ".py",
   "mimetype": "text/x-python",
   "name": "python",
   "nbconvert_exporter": "python",
   "pygments_lexer": "ipython3",
   "version": "3.12.7"
  }
 },
 "nbformat": 4,
 "nbformat_minor": 5
}
