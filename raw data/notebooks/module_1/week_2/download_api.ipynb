{
 "cells": [
  {
   "cell_type": "markdown",
   "metadata": {},
   "source": [
    "# Module 2--Downloading data\n",
    "\n",
    "\n",
    "- Module 1 covers python basics\n",
    "    - Notes (Current page)\n",
    "    - Youtube video"
   ]
  },
  {
   "cell_type": "markdown",
   "metadata": {},
   "source": [
    "# 1. Importing Data\n",
    "- All data and code for this course including this notebook is viewable on our course page below\n",
    "    - https://github.com/Data-Science-Public-Policy/graspp_2025_spring/tree/main"
   ]
  },
  {
   "cell_type": "markdown",
   "metadata": {},
   "source": [
    "## 1.1. Importing data from github\n",
    "\n",
    "1. Find a cool data set and click right click and copy link from the raw button\n",
    "\n",
    "\n",
    "<img src=\"screenshots/github_import_raw.png\" />\n",
    "\n"
   ]
  },
  {
   "cell_type": "code",
   "execution_count": 1,
   "metadata": {},
   "outputs": [
    {
     "data": {
      "text/plain": [
       "'https://github.com/Data-Science-Public-Policy/graspp_2025_spring/raw/refs/heads/module_1/data/examples/module_1/world_bank_data.csv'"
      ]
     },
     "execution_count": 1,
     "metadata": {},
     "output_type": "execute_result"
    }
   ],
   "source": [
    "# THE URL SHOULD HAVE THE /raw/ somewhere\n",
    "url = \"https://github.com/Data-Science-Public-Policy/graspp_2025_spring/raw/refs/heads/module_1/data/examples/module_1/world_bank_data.csv\"\n",
    "# This line prints the url\n",
    "url"
   ]
  },
  {
   "cell_type": "markdown",
   "metadata": {},
   "source": [
    "### 1.1.1 Importing example data from our class"
   ]
  },
  {
   "cell_type": "code",
   "execution_count": 2,
   "metadata": {},
   "outputs": [
    {
     "data": {
      "text/html": [
       "<div>\n",
       "<style scoped>\n",
       "    .dataframe tbody tr th:only-of-type {\n",
       "        vertical-align: middle;\n",
       "    }\n",
       "\n",
       "    .dataframe tbody tr th {\n",
       "        vertical-align: top;\n",
       "    }\n",
       "\n",
       "    .dataframe thead th {\n",
       "        text-align: right;\n",
       "    }\n",
       "</style>\n",
       "<table border=\"1\" class=\"dataframe\">\n",
       "  <thead>\n",
       "    <tr style=\"text-align: right;\">\n",
       "      <th></th>\n",
       "      <th>Unnamed: 0</th>\n",
       "      <th>indicator</th>\n",
       "      <th>country</th>\n",
       "      <th>countryiso3code</th>\n",
       "      <th>date</th>\n",
       "      <th>value</th>\n",
       "    </tr>\n",
       "  </thead>\n",
       "  <tbody>\n",
       "    <tr>\n",
       "      <th>0</th>\n",
       "      <td>0</td>\n",
       "      <td>GDP per capita (current US$)</td>\n",
       "      <td>Canada</td>\n",
       "      <td>CAN</td>\n",
       "      <td>2023</td>\n",
       "      <td>53431.185706</td>\n",
       "    </tr>\n",
       "    <tr>\n",
       "      <th>1</th>\n",
       "      <td>1</td>\n",
       "      <td>GDP per capita (current US$)</td>\n",
       "      <td>Canada</td>\n",
       "      <td>CAN</td>\n",
       "      <td>2022</td>\n",
       "      <td>55509.393176</td>\n",
       "    </tr>\n",
       "  </tbody>\n",
       "</table>\n",
       "</div>"
      ],
      "text/plain": [
       "   Unnamed: 0                     indicator country countryiso3code  date  \\\n",
       "0           0  GDP per capita (current US$)  Canada             CAN  2023   \n",
       "1           1  GDP per capita (current US$)  Canada             CAN  2022   \n",
       "\n",
       "          value  \n",
       "0  53431.185706  \n",
       "1  55509.393176  "
      ]
     },
     "execution_count": 2,
     "metadata": {},
     "output_type": "execute_result"
    }
   ],
   "source": [
    "# This line uses the pandas library's 'read_csv' function.\n",
    "import pandas as pd\n",
    "df = pd.read_csv(url)\n",
    "# The 'head(2)' returns the first 2 rows of the DataFrame.\n",
    "df.head(2)"
   ]
  },
  {
   "cell_type": "markdown",
   "metadata": {},
   "source": [
    "## 1.2 Importing directly from wikipedia"
   ]
  },
  {
   "cell_type": "code",
   "execution_count": 3,
   "metadata": {},
   "outputs": [
    {
     "data": {
      "text/html": [
       "<div>\n",
       "<style scoped>\n",
       "    .dataframe tbody tr th:only-of-type {\n",
       "        vertical-align: middle;\n",
       "    }\n",
       "\n",
       "    .dataframe tbody tr th {\n",
       "        vertical-align: top;\n",
       "    }\n",
       "\n",
       "    .dataframe thead tr th {\n",
       "        text-align: left;\n",
       "    }\n",
       "</style>\n",
       "<table border=\"1\" class=\"dataframe\">\n",
       "  <thead>\n",
       "    <tr>\n",
       "      <th></th>\n",
       "      <th>City[a]</th>\n",
       "      <th>Country</th>\n",
       "      <th>UN 2018 population estimates[b]</th>\n",
       "      <th colspan=\"4\" halign=\"left\">City proper[c]</th>\n",
       "      <th colspan=\"3\" halign=\"left\">Urban area[12]</th>\n",
       "      <th colspan=\"3\" halign=\"left\">Metropolitan area[d]</th>\n",
       "    </tr>\n",
       "    <tr>\n",
       "      <th></th>\n",
       "      <th>City[a]</th>\n",
       "      <th>Country</th>\n",
       "      <th>UN 2018 population estimates[b]</th>\n",
       "      <th>Definition</th>\n",
       "      <th>Population</th>\n",
       "      <th>Area (km2)</th>\n",
       "      <th>Density (/km2)</th>\n",
       "      <th>Population</th>\n",
       "      <th>Area (km2)</th>\n",
       "      <th>Density (/km2)</th>\n",
       "      <th>Population</th>\n",
       "      <th>Area (km2)</th>\n",
       "      <th>Density (/km2)</th>\n",
       "    </tr>\n",
       "  </thead>\n",
       "  <tbody>\n",
       "    <tr>\n",
       "      <th>0</th>\n",
       "      <td>Tokyo</td>\n",
       "      <td>Japan</td>\n",
       "      <td>37468000</td>\n",
       "      <td>Metropolis prefecture</td>\n",
       "      <td>13515271</td>\n",
       "      <td>2191</td>\n",
       "      <td>6,169 [13]</td>\n",
       "      <td>37785000</td>\n",
       "      <td>8231</td>\n",
       "      <td>4,591 [e]</td>\n",
       "      <td>37274000</td>\n",
       "      <td>13452</td>\n",
       "      <td>2,771 [14]</td>\n",
       "    </tr>\n",
       "    <tr>\n",
       "      <th>1</th>\n",
       "      <td>Delhi</td>\n",
       "      <td>India</td>\n",
       "      <td>28514000</td>\n",
       "      <td>Municipal corporation</td>\n",
       "      <td>16753235</td>\n",
       "      <td>1484</td>\n",
       "      <td>11,289 [15]</td>\n",
       "      <td>32226000</td>\n",
       "      <td>2344</td>\n",
       "      <td>13,748 [f]</td>\n",
       "      <td>29000000</td>\n",
       "      <td>3483</td>\n",
       "      <td>8,326 [16]</td>\n",
       "    </tr>\n",
       "  </tbody>\n",
       "</table>\n",
       "</div>"
      ],
      "text/plain": [
       "  City[a] Country UN 2018 population estimates[b]         City proper[c]  \\\n",
       "  City[a] Country UN 2018 population estimates[b]             Definition   \n",
       "0   Tokyo   Japan                        37468000  Metropolis prefecture   \n",
       "1   Delhi   India                        28514000  Municipal corporation   \n",
       "\n",
       "                                       Urban area[12]             \\\n",
       "  Population Area (km2) Density (/km2)     Population Area (km2)   \n",
       "0   13515271       2191     6,169 [13]       37785000       8231   \n",
       "1   16753235       1484    11,289 [15]       32226000       2344   \n",
       "\n",
       "                 Metropolitan area[d]                            \n",
       "  Density (/km2)           Population Area (km2) Density (/km2)  \n",
       "0      4,591 [e]             37274000      13452     2,771 [14]  \n",
       "1     13,748 [f]             29000000       3483     8,326 [16]  "
      ]
     },
     "execution_count": 3,
     "metadata": {},
     "output_type": "execute_result"
    }
   ],
   "source": [
    "url = 'https://en.wikipedia.org/wiki/List_of_largest_cities'\n",
    "df = pd.read_html(url)\n",
    "df[1].head(2)"
   ]
  },
  {
   "cell_type": "code",
   "execution_count": 4,
   "metadata": {},
   "outputs": [
    {
     "data": {
      "text/html": [
       "<div>\n",
       "<style scoped>\n",
       "    .dataframe tbody tr th:only-of-type {\n",
       "        vertical-align: middle;\n",
       "    }\n",
       "\n",
       "    .dataframe tbody tr th {\n",
       "        vertical-align: top;\n",
       "    }\n",
       "\n",
       "    .dataframe thead tr th {\n",
       "        text-align: left;\n",
       "    }\n",
       "</style>\n",
       "<table border=\"1\" class=\"dataframe\">\n",
       "  <thead>\n",
       "    <tr>\n",
       "      <th></th>\n",
       "      <th colspan=\"2\" halign=\"left\">Parties</th>\n",
       "      <th>Leader</th>\n",
       "      <th>Ideology</th>\n",
       "      <th colspan=\"2\" halign=\"left\">Seats</th>\n",
       "      <th>Status</th>\n",
       "    </tr>\n",
       "    <tr>\n",
       "      <th></th>\n",
       "      <th>Parties</th>\n",
       "      <th>Parties.1</th>\n",
       "      <th>Leader</th>\n",
       "      <th>Ideology</th>\n",
       "      <th>Last election</th>\n",
       "      <th>At dissolution[15]</th>\n",
       "      <th>Status</th>\n",
       "    </tr>\n",
       "  </thead>\n",
       "  <tbody>\n",
       "    <tr>\n",
       "      <th>0</th>\n",
       "      <td>NaN</td>\n",
       "      <td>Liberal Democratic Party</td>\n",
       "      <td>Shigeru Ishiba</td>\n",
       "      <td>Conservatism Japanese nationalism</td>\n",
       "      <td>259 / 465</td>\n",
       "      <td>247 / 465</td>\n",
       "      <td>Governing coalition</td>\n",
       "    </tr>\n",
       "    <tr>\n",
       "      <th>1</th>\n",
       "      <td>NaN</td>\n",
       "      <td>Constitutional Democratic Party of Japan</td>\n",
       "      <td>Yoshihiko Noda</td>\n",
       "      <td>Liberalism</td>\n",
       "      <td>96 / 465</td>\n",
       "      <td>98 / 465</td>\n",
       "      <td>Opposition</td>\n",
       "    </tr>\n",
       "    <tr>\n",
       "      <th>2</th>\n",
       "      <td>NaN</td>\n",
       "      <td>Japan Innovation Party</td>\n",
       "      <td>Nobuyuki Baba</td>\n",
       "      <td>Right-wing populism Economic liberalism</td>\n",
       "      <td>41 / 465</td>\n",
       "      <td>44 / 465</td>\n",
       "      <td>Opposition</td>\n",
       "    </tr>\n",
       "    <tr>\n",
       "      <th>3</th>\n",
       "      <td>NaN</td>\n",
       "      <td>Komeito</td>\n",
       "      <td>Keiichi Ishii</td>\n",
       "      <td>Buddhist democracy</td>\n",
       "      <td>32 / 465</td>\n",
       "      <td>32 / 465</td>\n",
       "      <td>Governing coalition</td>\n",
       "    </tr>\n",
       "    <tr>\n",
       "      <th>4</th>\n",
       "      <td>NaN</td>\n",
       "      <td>Japanese Communist Party</td>\n",
       "      <td>Tomoko Tamura</td>\n",
       "      <td>Communism</td>\n",
       "      <td>10 / 465</td>\n",
       "      <td>10 / 465</td>\n",
       "      <td>Opposition</td>\n",
       "    </tr>\n",
       "    <tr>\n",
       "      <th>5</th>\n",
       "      <td>NaN</td>\n",
       "      <td>Democratic Party For the People</td>\n",
       "      <td>Yuichiro Tamaki</td>\n",
       "      <td>Conservatism</td>\n",
       "      <td>11 / 465</td>\n",
       "      <td>7 / 465</td>\n",
       "      <td>Opposition</td>\n",
       "    </tr>\n",
       "    <tr>\n",
       "      <th>6</th>\n",
       "      <td>NaN</td>\n",
       "      <td>Reiwa Shinsengumi</td>\n",
       "      <td>Tarō Yamamoto</td>\n",
       "      <td>Progressivism Left-wing populism</td>\n",
       "      <td>3 / 465</td>\n",
       "      <td>3 / 465</td>\n",
       "      <td>Opposition</td>\n",
       "    </tr>\n",
       "    <tr>\n",
       "      <th>7</th>\n",
       "      <td>NaN</td>\n",
       "      <td>Social Democratic Party</td>\n",
       "      <td>Mizuho Fukushima</td>\n",
       "      <td>Social democracy</td>\n",
       "      <td>1 / 465</td>\n",
       "      <td>1 / 465</td>\n",
       "      <td>Opposition</td>\n",
       "    </tr>\n",
       "    <tr>\n",
       "      <th>8</th>\n",
       "      <td>NaN</td>\n",
       "      <td>Sanseitō</td>\n",
       "      <td>Sohei Kamiya</td>\n",
       "      <td>Right-wing populism  Ultraconservatism</td>\n",
       "      <td>0 / 465</td>\n",
       "      <td>1 / 465</td>\n",
       "      <td>Opposition</td>\n",
       "    </tr>\n",
       "    <tr>\n",
       "      <th>9</th>\n",
       "      <td>NaN</td>\n",
       "      <td>Nonpartisan and others</td>\n",
       "      <td>—</td>\n",
       "      <td>—</td>\n",
       "      <td>12 / 465</td>\n",
       "      <td>22 / 465</td>\n",
       "      <td>Opposition</td>\n",
       "    </tr>\n",
       "  </tbody>\n",
       "</table>\n",
       "</div>"
      ],
      "text/plain": [
       "  Parties                                                      Leader  \\\n",
       "  Parties                                 Parties.1            Leader   \n",
       "0     NaN                  Liberal Democratic Party    Shigeru Ishiba   \n",
       "1     NaN  Constitutional Democratic Party of Japan    Yoshihiko Noda   \n",
       "2     NaN                    Japan Innovation Party     Nobuyuki Baba   \n",
       "3     NaN                                   Komeito     Keiichi Ishii   \n",
       "4     NaN                  Japanese Communist Party     Tomoko Tamura   \n",
       "5     NaN           Democratic Party For the People   Yuichiro Tamaki   \n",
       "6     NaN                         Reiwa Shinsengumi     Tarō Yamamoto   \n",
       "7     NaN                   Social Democratic Party  Mizuho Fukushima   \n",
       "8     NaN                                  Sanseitō      Sohei Kamiya   \n",
       "9     NaN                    Nonpartisan and others                 —   \n",
       "\n",
       "                                  Ideology         Seats                     \\\n",
       "                                  Ideology Last election At dissolution[15]   \n",
       "0        Conservatism Japanese nationalism     259 / 465          247 / 465   \n",
       "1                               Liberalism      96 / 465           98 / 465   \n",
       "2  Right-wing populism Economic liberalism      41 / 465           44 / 465   \n",
       "3                       Buddhist democracy      32 / 465           32 / 465   \n",
       "4                                Communism      10 / 465           10 / 465   \n",
       "5                             Conservatism      11 / 465            7 / 465   \n",
       "6         Progressivism Left-wing populism       3 / 465            3 / 465   \n",
       "7                         Social democracy       1 / 465            1 / 465   \n",
       "8   Right-wing populism  Ultraconservatism       0 / 465            1 / 465   \n",
       "9                                        —      12 / 465           22 / 465   \n",
       "\n",
       "                Status  \n",
       "                Status  \n",
       "0  Governing coalition  \n",
       "1           Opposition  \n",
       "2           Opposition  \n",
       "3  Governing coalition  \n",
       "4           Opposition  \n",
       "5           Opposition  \n",
       "6           Opposition  \n",
       "7           Opposition  \n",
       "8           Opposition  \n",
       "9           Opposition  "
      ]
     },
     "execution_count": 4,
     "metadata": {},
     "output_type": "execute_result"
    }
   ],
   "source": [
    "url = 'https://en.wikipedia.org/wiki/2024_Japanese_general_election'\n",
    "tables = pd.read_html(url)\n",
    "df = tables[6]\n",
    "df"
   ]
  },
  {
   "cell_type": "markdown",
   "metadata": {},
   "source": [
    "## 1.3 Importing data from your local computer workspace"
   ]
  },
  {
   "cell_type": "code",
   "execution_count": 5,
   "metadata": {},
   "outputs": [
    {
     "data": {
      "text/html": [
       "<div>\n",
       "<style scoped>\n",
       "    .dataframe tbody tr th:only-of-type {\n",
       "        vertical-align: middle;\n",
       "    }\n",
       "\n",
       "    .dataframe tbody tr th {\n",
       "        vertical-align: top;\n",
       "    }\n",
       "\n",
       "    .dataframe thead th {\n",
       "        text-align: right;\n",
       "    }\n",
       "</style>\n",
       "<table border=\"1\" class=\"dataframe\">\n",
       "  <thead>\n",
       "    <tr style=\"text-align: right;\">\n",
       "      <th></th>\n",
       "      <th>Unnamed: 0</th>\n",
       "      <th>indicator</th>\n",
       "      <th>country</th>\n",
       "      <th>countryiso3code</th>\n",
       "      <th>date</th>\n",
       "      <th>value</th>\n",
       "    </tr>\n",
       "  </thead>\n",
       "  <tbody>\n",
       "    <tr>\n",
       "      <th>0</th>\n",
       "      <td>0</td>\n",
       "      <td>GDP per capita (current US$)</td>\n",
       "      <td>Canada</td>\n",
       "      <td>CAN</td>\n",
       "      <td>2023</td>\n",
       "      <td>53431.185706</td>\n",
       "    </tr>\n",
       "    <tr>\n",
       "      <th>1</th>\n",
       "      <td>1</td>\n",
       "      <td>GDP per capita (current US$)</td>\n",
       "      <td>Canada</td>\n",
       "      <td>CAN</td>\n",
       "      <td>2022</td>\n",
       "      <td>55509.393176</td>\n",
       "    </tr>\n",
       "  </tbody>\n",
       "</table>\n",
       "</div>"
      ],
      "text/plain": [
       "   Unnamed: 0                     indicator country countryiso3code  date  \\\n",
       "0           0  GDP per capita (current US$)  Canada             CAN  2023   \n",
       "1           1  GDP per capita (current US$)  Canada             CAN  2022   \n",
       "\n",
       "          value  \n",
       "0  53431.185706  \n",
       "1  55509.393176  "
      ]
     },
     "execution_count": 5,
     "metadata": {},
     "output_type": "execute_result"
    }
   ],
   "source": [
    "df = pd.read_csv(\"../../../data/examples/module_1/world_bank_data.csv\")\n",
    "df.head(2)"
   ]
  },
  {
   "cell_type": "markdown",
   "metadata": {},
   "source": [
    "## 1.4 Import data from Global Macro Database (import from Github)\n",
    "\n",
    "- This is an amazing resource with macrodata from many different sources\n",
    "    - https://github.com/KMueller-Lab/Global-Macro-Database/tree/main "
   ]
  },
  {
   "cell_type": "code",
   "execution_count": 6,
   "metadata": {},
   "outputs": [
    {
     "data": {
      "text/html": [
       "<div>\n",
       "<style scoped>\n",
       "    .dataframe tbody tr th:only-of-type {\n",
       "        vertical-align: middle;\n",
       "    }\n",
       "\n",
       "    .dataframe tbody tr th {\n",
       "        vertical-align: top;\n",
       "    }\n",
       "\n",
       "    .dataframe thead th {\n",
       "        text-align: right;\n",
       "    }\n",
       "</style>\n",
       "<table border=\"1\" class=\"dataframe\">\n",
       "  <thead>\n",
       "    <tr style=\"text-align: right;\">\n",
       "      <th></th>\n",
       "      <th>ISO3</th>\n",
       "      <th>year</th>\n",
       "      <th>ADB_infl</th>\n",
       "      <th>AHSTAT_infl</th>\n",
       "      <th>AMF_infl</th>\n",
       "      <th>BCEAO_infl</th>\n",
       "      <th>BIS_infl</th>\n",
       "      <th>BORDO_infl</th>\n",
       "      <th>CEPAC_infl</th>\n",
       "      <th>EUS_infl</th>\n",
       "      <th>...</th>\n",
       "      <th>OECD_KEI_infl</th>\n",
       "      <th>WB_CC_infl</th>\n",
       "      <th>WDI_infl</th>\n",
       "      <th>WDI_ARC_infl</th>\n",
       "      <th>CS1_infl</th>\n",
       "      <th>CS2_infl</th>\n",
       "      <th>infl</th>\n",
       "      <th>chainlinking_ratio</th>\n",
       "      <th>source</th>\n",
       "      <th>source_change</th>\n",
       "    </tr>\n",
       "  </thead>\n",
       "  <tbody>\n",
       "    <tr>\n",
       "      <th>0</th>\n",
       "      <td>ZWE</td>\n",
       "      <td>2029.0</td>\n",
       "      <td>NaN</td>\n",
       "      <td>NaN</td>\n",
       "      <td>NaN</td>\n",
       "      <td>NaN</td>\n",
       "      <td>NaN</td>\n",
       "      <td>NaN</td>\n",
       "      <td>NaN</td>\n",
       "      <td>NaN</td>\n",
       "      <td>...</td>\n",
       "      <td>NaN</td>\n",
       "      <td>NaN</td>\n",
       "      <td>NaN</td>\n",
       "      <td>NaN</td>\n",
       "      <td>NaN</td>\n",
       "      <td>NaN</td>\n",
       "      <td>5.131044</td>\n",
       "      <td>1.0</td>\n",
       "      <td>IMF_WEO</td>\n",
       "      <td>NaN</td>\n",
       "    </tr>\n",
       "    <tr>\n",
       "      <th>1</th>\n",
       "      <td>ZWE</td>\n",
       "      <td>2028.0</td>\n",
       "      <td>NaN</td>\n",
       "      <td>NaN</td>\n",
       "      <td>NaN</td>\n",
       "      <td>NaN</td>\n",
       "      <td>NaN</td>\n",
       "      <td>NaN</td>\n",
       "      <td>NaN</td>\n",
       "      <td>NaN</td>\n",
       "      <td>...</td>\n",
       "      <td>NaN</td>\n",
       "      <td>NaN</td>\n",
       "      <td>NaN</td>\n",
       "      <td>NaN</td>\n",
       "      <td>NaN</td>\n",
       "      <td>NaN</td>\n",
       "      <td>5.108963</td>\n",
       "      <td>1.0</td>\n",
       "      <td>IMF_WEO</td>\n",
       "      <td>NaN</td>\n",
       "    </tr>\n",
       "  </tbody>\n",
       "</table>\n",
       "<p>2 rows × 33 columns</p>\n",
       "</div>"
      ],
      "text/plain": [
       "  ISO3    year  ADB_infl  AHSTAT_infl  AMF_infl  BCEAO_infl  BIS_infl  \\\n",
       "0  ZWE  2029.0       NaN          NaN       NaN         NaN       NaN   \n",
       "1  ZWE  2028.0       NaN          NaN       NaN         NaN       NaN   \n",
       "\n",
       "   BORDO_infl  CEPAC_infl  EUS_infl  ...  OECD_KEI_infl  WB_CC_infl  WDI_infl  \\\n",
       "0         NaN         NaN       NaN  ...            NaN         NaN       NaN   \n",
       "1         NaN         NaN       NaN  ...            NaN         NaN       NaN   \n",
       "\n",
       "   WDI_ARC_infl  CS1_infl  CS2_infl      infl  chainlinking_ratio   source  \\\n",
       "0           NaN       NaN       NaN  5.131044                 1.0  IMF_WEO   \n",
       "1           NaN       NaN       NaN  5.108963                 1.0  IMF_WEO   \n",
       "\n",
       "   source_change  \n",
       "0            NaN  \n",
       "1            NaN  \n",
       "\n",
       "[2 rows x 33 columns]"
      ]
     },
     "execution_count": 6,
     "metadata": {},
     "output_type": "execute_result"
    }
   ],
   "source": [
    "url = 'https://github.com/KMueller-Lab/Global-Macro-Database/raw/refs/heads/main/data/final/chainlinked_infl.dta'\n",
    "df = pd.read_stata(url)\n",
    "df.head(2)"
   ]
  },
  {
   "cell_type": "markdown",
   "metadata": {},
   "source": [
    "# 2. Download from API"
   ]
  },
  {
   "cell_type": "markdown",
   "metadata": {},
   "source": [
    "## 2.1 World bank\n",
    "\n",
    "#### NO API REQUIRED"
   ]
  },
  {
   "cell_type": "code",
   "execution_count": 7,
   "metadata": {},
   "outputs": [],
   "source": [
    "import requests\n",
    "import pandas as pd\n",
    "\n",
    "def download_worldbank(indicator, countries, date_start, date_end):\n",
    "    url_base = 'http://api.worldbank.org/v2/'  # Base URL for the World Bank API\n",
    "    country_codes = ';'.join(countries)  # Combine country codes into a string\n",
    "    url = url_base + f'country/{country_codes}/indicator/{indicator}?date={date_start}:{date_end}&per_page=30000' #create the url with start and end date.\n",
    "    url = url_base + f'country/{country_codes}/indicator/{indicator}?per_page=30000' # This line overrides the previous one. It will ignore start/end date.\n",
    "\n",
    "    response = requests.get(url)  # Download data from the URL\n",
    "    df = pd.read_xml(response.content)  # Convert the downloaded data to a table\n",
    "    return df  # Return the table"
   ]
  },
  {
   "cell_type": "code",
   "execution_count": 8,
   "metadata": {},
   "outputs": [
    {
     "data": {
      "text/html": [
       "<div>\n",
       "<style scoped>\n",
       "    .dataframe tbody tr th:only-of-type {\n",
       "        vertical-align: middle;\n",
       "    }\n",
       "\n",
       "    .dataframe tbody tr th {\n",
       "        vertical-align: top;\n",
       "    }\n",
       "\n",
       "    .dataframe thead th {\n",
       "        text-align: right;\n",
       "    }\n",
       "</style>\n",
       "<table border=\"1\" class=\"dataframe\">\n",
       "  <thead>\n",
       "    <tr style=\"text-align: right;\">\n",
       "      <th></th>\n",
       "      <th>indicator</th>\n",
       "      <th>country</th>\n",
       "      <th>countryiso3code</th>\n",
       "      <th>date</th>\n",
       "      <th>value</th>\n",
       "      <th>unit</th>\n",
       "      <th>obs_status</th>\n",
       "      <th>decimal</th>\n",
       "    </tr>\n",
       "  </thead>\n",
       "  <tbody>\n",
       "    <tr>\n",
       "      <th>0</th>\n",
       "      <td>GDP per capita (current US$)</td>\n",
       "      <td>Canada</td>\n",
       "      <td>CAN</td>\n",
       "      <td>2023</td>\n",
       "      <td>53431.185706</td>\n",
       "      <td>NaN</td>\n",
       "      <td>NaN</td>\n",
       "      <td>1</td>\n",
       "    </tr>\n",
       "    <tr>\n",
       "      <th>1</th>\n",
       "      <td>GDP per capita (current US$)</td>\n",
       "      <td>Canada</td>\n",
       "      <td>CAN</td>\n",
       "      <td>2022</td>\n",
       "      <td>55509.393176</td>\n",
       "      <td>NaN</td>\n",
       "      <td>NaN</td>\n",
       "      <td>1</td>\n",
       "    </tr>\n",
       "  </tbody>\n",
       "</table>\n",
       "</div>"
      ],
      "text/plain": [
       "                      indicator country countryiso3code  date         value  \\\n",
       "0  GDP per capita (current US$)  Canada             CAN  2023  53431.185706   \n",
       "1  GDP per capita (current US$)  Canada             CAN  2022  55509.393176   \n",
       "\n",
       "   unit  obs_status  decimal  \n",
       "0   NaN         NaN        1  \n",
       "1   NaN         NaN        1  "
      ]
     },
     "execution_count": 8,
     "metadata": {},
     "output_type": "execute_result"
    }
   ],
   "source": [
    "# Example 1\n",
    "data = download_worldbank(\n",
    "    indicator = 'NY.GDP.PCAP.CD' , \n",
    "    countries = ['US', 'CA', 'MX', 'JP'],  \n",
    "    date_start = '2021', \n",
    "    date_end = '2023'\n",
    ")\n",
    "data.head(2)"
   ]
  },
  {
   "cell_type": "markdown",
   "metadata": {},
   "source": [
    "## 2.2 FRED\n",
    "### 2.2.A Register for FRED and click on API Keys"
   ]
  },
  {
   "cell_type": "markdown",
   "metadata": {},
   "source": [
    "<img src=\"screenshots/fred_api.png\" />\n"
   ]
  },
  {
   "cell_type": "markdown",
   "metadata": {},
   "source": [
    "### 2.2.1 Import data"
   ]
  },
  {
   "cell_type": "code",
   "execution_count": 9,
   "metadata": {},
   "outputs": [
    {
     "data": {
      "text/html": [
       "<div>\n",
       "<style scoped>\n",
       "    .dataframe tbody tr th:only-of-type {\n",
       "        vertical-align: middle;\n",
       "    }\n",
       "\n",
       "    .dataframe tbody tr th {\n",
       "        vertical-align: top;\n",
       "    }\n",
       "\n",
       "    .dataframe thead th {\n",
       "        text-align: right;\n",
       "    }\n",
       "</style>\n",
       "<table border=\"1\" class=\"dataframe\">\n",
       "  <thead>\n",
       "    <tr style=\"text-align: right;\">\n",
       "      <th></th>\n",
       "      <th>date</th>\n",
       "      <th>value</th>\n",
       "    </tr>\n",
       "  </thead>\n",
       "  <tbody>\n",
       "    <tr>\n",
       "      <th>4</th>\n",
       "      <td>1947-01-01</td>\n",
       "      <td>243.164</td>\n",
       "    </tr>\n",
       "    <tr>\n",
       "      <th>5</th>\n",
       "      <td>1947-04-01</td>\n",
       "      <td>245.968</td>\n",
       "    </tr>\n",
       "  </tbody>\n",
       "</table>\n",
       "</div>"
      ],
      "text/plain": [
       "         date    value\n",
       "4  1947-01-01  243.164\n",
       "5  1947-04-01  245.968"
      ]
     },
     "execution_count": 9,
     "metadata": {},
     "output_type": "execute_result"
    }
   ],
   "source": [
    "import numpy as np\n",
    "import requests\n",
    "import json\n",
    "\n",
    "def fetch_fred_data(api_key, series_id):\n",
    "    url = f\"https://api.stlouisfed.org/fred/series/observations?series_id={series_id}&file_type=json&api_key={api_key}\"\n",
    "    response = requests.get(url)\n",
    "    dictionary = response.json()['observations']\n",
    "    df = pd.DataFrame(dictionary)[['date','value']]\n",
    "    df.value = df.value.replace(\".\", np.nan).astype(float)\n",
    "    df = df.dropna()\n",
    "    return df\n",
    "\n",
    "  \n",
    "# Example usage\n",
    "api_key = \"6290b1cc11ac06efe031863a31de166f\"  # Replace with your actual API key\n",
    "series_id = \"GDP\"  # Example series ID for US GDP\n",
    "    \n",
    "df = fetch_fred_data(api_key, series_id)\n",
    "df.head(2)"
   ]
  },
  {
   "cell_type": "code",
   "execution_count": 10,
   "metadata": {},
   "outputs": [
    {
     "data": {
      "text/plain": [
       "<Axes: xlabel='date'>"
      ]
     },
     "execution_count": 10,
     "metadata": {},
     "output_type": "execute_result"
    },
    {
     "data": {
      "image/png": "[encoded data removed]",
      "text/plain": [
       "<Figure size 640x480 with 1 Axes>"
      ]
     },
     "metadata": {},
     "output_type": "display_data"
    }
   ],
   "source": [
    "df.set_index('date')['2012':].plot()"
   ]
  },
  {
   "cell_type": "markdown",
   "metadata": {},
   "source": [
    "## 2.3 OECD"
   ]
  },
  {
   "cell_type": "code",
   "execution_count": 11,
   "metadata": {},
   "outputs": [
    {
     "data": {
      "text/html": [
       "<div>\n",
       "<style scoped>\n",
       "    .dataframe tbody tr th:only-of-type {\n",
       "        vertical-align: middle;\n",
       "    }\n",
       "\n",
       "    .dataframe tbody tr th {\n",
       "        vertical-align: top;\n",
       "    }\n",
       "\n",
       "    .dataframe thead th {\n",
       "        text-align: right;\n",
       "    }\n",
       "</style>\n",
       "<table border=\"1\" class=\"dataframe\">\n",
       "  <thead>\n",
       "    <tr style=\"text-align: right;\">\n",
       "      <th></th>\n",
       "      <th>DATAFLOW</th>\n",
       "      <th>REF_AREA</th>\n",
       "      <th>FREQ</th>\n",
       "      <th>MEASURE</th>\n",
       "      <th>ACTIVITY</th>\n",
       "      <th>UNIT_MEASURE</th>\n",
       "      <th>PRICE_BASE</th>\n",
       "      <th>TRANSFORMATION</th>\n",
       "      <th>ADJUSTMENT</th>\n",
       "      <th>CONVERSION_TYPE</th>\n",
       "      <th>TIME_PERIOD</th>\n",
       "      <th>OBS_VALUE</th>\n",
       "      <th>OBS_STATUS</th>\n",
       "      <th>UNIT_MULT</th>\n",
       "      <th>BASE_PER</th>\n",
       "      <th>DECIMALS</th>\n",
       "    </tr>\n",
       "  </thead>\n",
       "  <tbody>\n",
       "    <tr>\n",
       "      <th>0</th>\n",
       "      <td>OECD.SDD.TPS:DSD_PDB@DF_PDB_ULC_Q(1.0)</td>\n",
       "      <td>SVN</td>\n",
       "      <td>Q</td>\n",
       "      <td>GDPEMP</td>\n",
       "      <td>_T</td>\n",
       "      <td>IX</td>\n",
       "      <td>Q</td>\n",
       "      <td>_Z</td>\n",
       "      <td>S</td>\n",
       "      <td>NC</td>\n",
       "      <td>2024-Q2</td>\n",
       "      <td>110.9560</td>\n",
       "      <td>A</td>\n",
       "      <td>0</td>\n",
       "      <td>2015.0</td>\n",
       "      <td>0</td>\n",
       "    </tr>\n",
       "    <tr>\n",
       "      <th>1</th>\n",
       "      <td>OECD.SDD.TPS:DSD_PDB@DF_PDB_ULC_Q(1.0)</td>\n",
       "      <td>NZL</td>\n",
       "      <td>Q</td>\n",
       "      <td>GDPEMP</td>\n",
       "      <td>_T</td>\n",
       "      <td>IX</td>\n",
       "      <td>Q</td>\n",
       "      <td>_Z</td>\n",
       "      <td>S</td>\n",
       "      <td>NC</td>\n",
       "      <td>2024-Q2</td>\n",
       "      <td>103.2901</td>\n",
       "      <td>A</td>\n",
       "      <td>0</td>\n",
       "      <td>2015.0</td>\n",
       "      <td>0</td>\n",
       "    </tr>\n",
       "  </tbody>\n",
       "</table>\n",
       "</div>"
      ],
      "text/plain": [
       "                                 DATAFLOW REF_AREA FREQ MEASURE ACTIVITY  \\\n",
       "0  OECD.SDD.TPS:DSD_PDB@DF_PDB_ULC_Q(1.0)      SVN    Q  GDPEMP       _T   \n",
       "1  OECD.SDD.TPS:DSD_PDB@DF_PDB_ULC_Q(1.0)      NZL    Q  GDPEMP       _T   \n",
       "\n",
       "  UNIT_MEASURE PRICE_BASE TRANSFORMATION ADJUSTMENT CONVERSION_TYPE  \\\n",
       "0           IX          Q             _Z          S              NC   \n",
       "1           IX          Q             _Z          S              NC   \n",
       "\n",
       "  TIME_PERIOD  OBS_VALUE OBS_STATUS  UNIT_MULT  BASE_PER  DECIMALS  \n",
       "0     2024-Q2   110.9560          A          0    2015.0         0  \n",
       "1     2024-Q2   103.2901          A          0    2015.0         0  "
      ]
     },
     "execution_count": 11,
     "metadata": {},
     "output_type": "execute_result"
    }
   ],
   "source": [
    "import requests\n",
    "import pandas as pd\n",
    "import io\n",
    "# The URL containing the data to be scraped\n",
    "url = \"https://sdmx.oecd.org/public/rest/data/OECD.SDD.TPS,DSD_PDB@DF_PDB_ULC_Q,1.0/.Q.......?startPeriod=2023-Q4&format=csv\"\n",
    "# Send a GET request to the URL\n",
    "response = requests.get(url)\n",
    "data = io.StringIO(response.text)\n",
    "# Use pandas to read the CSV data\n",
    "df = pd.read_csv(data)\n",
    "df.head(2)"
   ]
  },
  {
   "cell_type": "code",
   "execution_count": 12,
   "metadata": {},
   "outputs": [
    {
     "data": {
      "text/html": [
       "<div>\n",
       "<style scoped>\n",
       "    .dataframe tbody tr th:only-of-type {\n",
       "        vertical-align: middle;\n",
       "    }\n",
       "\n",
       "    .dataframe tbody tr th {\n",
       "        vertical-align: top;\n",
       "    }\n",
       "\n",
       "    .dataframe thead th {\n",
       "        text-align: right;\n",
       "    }\n",
       "</style>\n",
       "<table border=\"1\" class=\"dataframe\">\n",
       "  <thead>\n",
       "    <tr style=\"text-align: right;\">\n",
       "      <th></th>\n",
       "      <th>REF_AREA</th>\n",
       "      <th>TIME_PERIOD</th>\n",
       "      <th>OBS_VALUE</th>\n",
       "      <th>MEASURE</th>\n",
       "    </tr>\n",
       "  </thead>\n",
       "  <tbody>\n",
       "    <tr>\n",
       "      <th>0</th>\n",
       "      <td>SVN</td>\n",
       "      <td>2024-Q2</td>\n",
       "      <td>110.9560</td>\n",
       "      <td>GDPEMP</td>\n",
       "    </tr>\n",
       "    <tr>\n",
       "      <th>1</th>\n",
       "      <td>NZL</td>\n",
       "      <td>2024-Q2</td>\n",
       "      <td>103.2901</td>\n",
       "      <td>GDPEMP</td>\n",
       "    </tr>\n",
       "  </tbody>\n",
       "</table>\n",
       "</div>"
      ],
      "text/plain": [
       "  REF_AREA TIME_PERIOD  OBS_VALUE MEASURE\n",
       "0      SVN     2024-Q2   110.9560  GDPEMP\n",
       "1      NZL     2024-Q2   103.2901  GDPEMP"
      ]
     },
     "execution_count": 12,
     "metadata": {},
     "output_type": "execute_result"
    }
   ],
   "source": [
    "cols = ['REF_AREA', 'TIME_PERIOD', 'OBS_VALUE', 'MEASURE']\n",
    "df_oecd = df[cols]\n",
    "df_oecd.head(2)"
   ]
  },
  {
   "cell_type": "markdown",
   "metadata": {},
   "source": [
    "## 2.4 IMF"
   ]
  },
  {
   "cell_type": "code",
   "execution_count": 77,
   "metadata": {},
   "outputs": [
    {
     "data": {
      "text/plain": [
       "date\n",
       "1955-01-01    5.392469\n",
       "1955-02-01    5.392469\n",
       "Name: value, dtype: float64"
      ]
     },
     "execution_count": 77,
     "metadata": {},
     "output_type": "execute_result"
    }
   ],
   "source": [
    "url = 'http://dataservices.imf.org/REST/SDMX_JSON.svc/'\n",
    "key = 'CompactData/IFS/M.GB.PCPI_IX' # adjust codes here\n",
    "\n",
    "# Navigate to series in API-returned JSON data\n",
    "data = (requests.get(f'{url}{key}').json()\n",
    "        ['CompactData']['DataSet']['Series'])\n",
    "\n",
    "baseyr = data['@BASE_YEAR']  # Save the base year\n",
    "# Create pandas dataframe from the observations\n",
    "data_list = [[obs.get('@TIME_PERIOD'), obs.get('@OBS_VALUE')] for obs in data['Obs']]\n",
    "\n",
    "df = pd.DataFrame(data_list, columns=['date', 'value'])\n",
    "     \n",
    "df = df.set_index(pd.to_datetime(df['date']))['value'].astype('float')\n",
    "\n",
    "df.head(2)"
   ]
  },
  {
   "cell_type": "code",
   "execution_count": 80,
   "metadata": {},
   "outputs": [],
   "source": [
    "import requests\n",
    "import pandas as pd\n",
    "\n",
    "url = 'http://dataservices.imf.org/REST/SDMX_JSON.svc/'\n",
    "key = 'CompactData/IFS/M..PCPI_IX.?startPeriod=2000&endPeriod=2001'\n",
    "\n",
    "data = requests.get(f'{url}{key}').json()['CompactData']['DataSet']['Series']\n",
    "#data"
   ]
  },
  {
   "cell_type": "markdown",
   "metadata": {},
   "source": [
    "# M. Merging data, dates and index"
   ]
  },
  {
   "cell_type": "markdown",
   "metadata": {},
   "source": [
    "\n",
    "### M.1. Download"
   ]
  },
  {
   "cell_type": "code",
   "execution_count": 13,
   "metadata": {},
   "outputs": [
    {
     "data": {
      "text/html": [
       "<div>\n",
       "<style scoped>\n",
       "    .dataframe tbody tr th:only-of-type {\n",
       "        vertical-align: middle;\n",
       "    }\n",
       "\n",
       "    .dataframe tbody tr th {\n",
       "        vertical-align: top;\n",
       "    }\n",
       "\n",
       "    .dataframe thead th {\n",
       "        text-align: right;\n",
       "    }\n",
       "</style>\n",
       "<table border=\"1\" class=\"dataframe\">\n",
       "  <thead>\n",
       "    <tr style=\"text-align: right;\">\n",
       "      <th></th>\n",
       "      <th>ISO3</th>\n",
       "      <th>year</th>\n",
       "      <th>ADB_infl</th>\n",
       "      <th>AHSTAT_infl</th>\n",
       "      <th>AMF_infl</th>\n",
       "      <th>BCEAO_infl</th>\n",
       "      <th>BIS_infl</th>\n",
       "      <th>BORDO_infl</th>\n",
       "      <th>CEPAC_infl</th>\n",
       "      <th>EUS_infl</th>\n",
       "      <th>...</th>\n",
       "      <th>OECD_KEI_infl</th>\n",
       "      <th>WB_CC_infl</th>\n",
       "      <th>WDI_infl</th>\n",
       "      <th>WDI_ARC_infl</th>\n",
       "      <th>CS1_infl</th>\n",
       "      <th>CS2_infl</th>\n",
       "      <th>infl</th>\n",
       "      <th>chainlinking_ratio</th>\n",
       "      <th>source</th>\n",
       "      <th>source_change</th>\n",
       "    </tr>\n",
       "  </thead>\n",
       "  <tbody>\n",
       "    <tr>\n",
       "      <th>0</th>\n",
       "      <td>ZWE</td>\n",
       "      <td>2029.0</td>\n",
       "      <td>NaN</td>\n",
       "      <td>NaN</td>\n",
       "      <td>NaN</td>\n",
       "      <td>NaN</td>\n",
       "      <td>NaN</td>\n",
       "      <td>NaN</td>\n",
       "      <td>NaN</td>\n",
       "      <td>NaN</td>\n",
       "      <td>...</td>\n",
       "      <td>NaN</td>\n",
       "      <td>NaN</td>\n",
       "      <td>NaN</td>\n",
       "      <td>NaN</td>\n",
       "      <td>NaN</td>\n",
       "      <td>NaN</td>\n",
       "      <td>5.131044</td>\n",
       "      <td>1.0</td>\n",
       "      <td>IMF_WEO</td>\n",
       "      <td>NaN</td>\n",
       "    </tr>\n",
       "    <tr>\n",
       "      <th>1</th>\n",
       "      <td>ZWE</td>\n",
       "      <td>2028.0</td>\n",
       "      <td>NaN</td>\n",
       "      <td>NaN</td>\n",
       "      <td>NaN</td>\n",
       "      <td>NaN</td>\n",
       "      <td>NaN</td>\n",
       "      <td>NaN</td>\n",
       "      <td>NaN</td>\n",
       "      <td>NaN</td>\n",
       "      <td>...</td>\n",
       "      <td>NaN</td>\n",
       "      <td>NaN</td>\n",
       "      <td>NaN</td>\n",
       "      <td>NaN</td>\n",
       "      <td>NaN</td>\n",
       "      <td>NaN</td>\n",
       "      <td>5.108963</td>\n",
       "      <td>1.0</td>\n",
       "      <td>IMF_WEO</td>\n",
       "      <td>NaN</td>\n",
       "    </tr>\n",
       "  </tbody>\n",
       "</table>\n",
       "<p>2 rows × 33 columns</p>\n",
       "</div>"
      ],
      "text/plain": [
       "  ISO3    year  ADB_infl  AHSTAT_infl  AMF_infl  BCEAO_infl  BIS_infl  \\\n",
       "0  ZWE  2029.0       NaN          NaN       NaN         NaN       NaN   \n",
       "1  ZWE  2028.0       NaN          NaN       NaN         NaN       NaN   \n",
       "\n",
       "   BORDO_infl  CEPAC_infl  EUS_infl  ...  OECD_KEI_infl  WB_CC_infl  WDI_infl  \\\n",
       "0         NaN         NaN       NaN  ...            NaN         NaN       NaN   \n",
       "1         NaN         NaN       NaN  ...            NaN         NaN       NaN   \n",
       "\n",
       "   WDI_ARC_infl  CS1_infl  CS2_infl      infl  chainlinking_ratio   source  \\\n",
       "0           NaN       NaN       NaN  5.131044                 1.0  IMF_WEO   \n",
       "1           NaN       NaN       NaN  5.108963                 1.0  IMF_WEO   \n",
       "\n",
       "   source_change  \n",
       "0            NaN  \n",
       "1            NaN  \n",
       "\n",
       "[2 rows x 33 columns]"
      ]
     },
     "execution_count": 13,
     "metadata": {},
     "output_type": "execute_result"
    }
   ],
   "source": [
    "import pandas as pd\n",
    "import requests\n",
    "import io\n",
    "\n",
    "url = 'https://github.com/KMueller-Lab/Global-Macro-Database/raw/refs/heads/main/data/final/chainlinked_infl.dta'\n",
    "df_macro = pd.read_stata(url)\n",
    "df_macro.head(2)"
   ]
  },
  {
   "cell_type": "code",
   "execution_count": 14,
   "metadata": {},
   "outputs": [
    {
     "data": {
      "text/html": [
       "<div>\n",
       "<style scoped>\n",
       "    .dataframe tbody tr th:only-of-type {\n",
       "        vertical-align: middle;\n",
       "    }\n",
       "\n",
       "    .dataframe tbody tr th {\n",
       "        vertical-align: top;\n",
       "    }\n",
       "\n",
       "    .dataframe thead th {\n",
       "        text-align: right;\n",
       "    }\n",
       "</style>\n",
       "<table border=\"1\" class=\"dataframe\">\n",
       "  <thead>\n",
       "    <tr style=\"text-align: right;\">\n",
       "      <th></th>\n",
       "      <th>DATAFLOW</th>\n",
       "      <th>REF_AREA</th>\n",
       "      <th>FREQ</th>\n",
       "      <th>MEASURE</th>\n",
       "      <th>ACTIVITY</th>\n",
       "      <th>UNIT_MEASURE</th>\n",
       "      <th>PRICE_BASE</th>\n",
       "      <th>TRANSFORMATION</th>\n",
       "      <th>ADJUSTMENT</th>\n",
       "      <th>CONVERSION_TYPE</th>\n",
       "      <th>TIME_PERIOD</th>\n",
       "      <th>OBS_VALUE</th>\n",
       "      <th>OBS_STATUS</th>\n",
       "      <th>UNIT_MULT</th>\n",
       "      <th>BASE_PER</th>\n",
       "      <th>DECIMALS</th>\n",
       "    </tr>\n",
       "  </thead>\n",
       "  <tbody>\n",
       "    <tr>\n",
       "      <th>0</th>\n",
       "      <td>OECD.SDD.TPS:DSD_PDB@DF_PDB_ULC_Q(1.0)</td>\n",
       "      <td>DNK</td>\n",
       "      <td>Q</td>\n",
       "      <td>LCEMP</td>\n",
       "      <td>_T</td>\n",
       "      <td>PA</td>\n",
       "      <td>V</td>\n",
       "      <td>GY</td>\n",
       "      <td>S</td>\n",
       "      <td>NC</td>\n",
       "      <td>2017-Q3</td>\n",
       "      <td>1.793888</td>\n",
       "      <td>A</td>\n",
       "      <td>0</td>\n",
       "      <td>NaN</td>\n",
       "      <td>2</td>\n",
       "    </tr>\n",
       "    <tr>\n",
       "      <th>1</th>\n",
       "      <td>OECD.SDD.TPS:DSD_PDB@DF_PDB_ULC_Q(1.0)</td>\n",
       "      <td>DNK</td>\n",
       "      <td>Q</td>\n",
       "      <td>LCEMP</td>\n",
       "      <td>_T</td>\n",
       "      <td>PA</td>\n",
       "      <td>V</td>\n",
       "      <td>GY</td>\n",
       "      <td>S</td>\n",
       "      <td>NC</td>\n",
       "      <td>2017-Q2</td>\n",
       "      <td>1.108080</td>\n",
       "      <td>A</td>\n",
       "      <td>0</td>\n",
       "      <td>NaN</td>\n",
       "      <td>2</td>\n",
       "    </tr>\n",
       "  </tbody>\n",
       "</table>\n",
       "</div>"
      ],
      "text/plain": [
       "                                 DATAFLOW REF_AREA FREQ MEASURE ACTIVITY  \\\n",
       "0  OECD.SDD.TPS:DSD_PDB@DF_PDB_ULC_Q(1.0)      DNK    Q   LCEMP       _T   \n",
       "1  OECD.SDD.TPS:DSD_PDB@DF_PDB_ULC_Q(1.0)      DNK    Q   LCEMP       _T   \n",
       "\n",
       "  UNIT_MEASURE PRICE_BASE TRANSFORMATION ADJUSTMENT CONVERSION_TYPE  \\\n",
       "0           PA          V             GY          S              NC   \n",
       "1           PA          V             GY          S              NC   \n",
       "\n",
       "  TIME_PERIOD  OBS_VALUE OBS_STATUS  UNIT_MULT  BASE_PER  DECIMALS  \n",
       "0     2017-Q3   1.793888          A          0       NaN         2  \n",
       "1     2017-Q2   1.108080          A          0       NaN         2  "
      ]
     },
     "execution_count": 14,
     "metadata": {},
     "output_type": "execute_result"
    }
   ],
   "source": [
    "url = \"https://sdmx.oecd.org/public/rest/data/OECD.SDD.TPS,DSD_PDB@DF_PDB_ULC_Q,1.0/.Q.......?startPeriod=1990-Q4&format=csv\"\n",
    "response = requests.get(url)\n",
    "data = io.StringIO(response.text)\n",
    "df_oecd = pd.read_csv(data)\n",
    "df_oecd.head(2)"
   ]
  },
  {
   "cell_type": "markdown",
   "metadata": {},
   "source": [
    "## M.2 Filter rows "
   ]
  },
  {
   "cell_type": "code",
   "execution_count": 15,
   "metadata": {},
   "outputs": [
    {
     "data": {
      "text/html": [
       "<div>\n",
       "<style scoped>\n",
       "    .dataframe tbody tr th:only-of-type {\n",
       "        vertical-align: middle;\n",
       "    }\n",
       "\n",
       "    .dataframe tbody tr th {\n",
       "        vertical-align: top;\n",
       "    }\n",
       "\n",
       "    .dataframe thead th {\n",
       "        text-align: right;\n",
       "    }\n",
       "</style>\n",
       "<table border=\"1\" class=\"dataframe\">\n",
       "  <thead>\n",
       "    <tr style=\"text-align: right;\">\n",
       "      <th></th>\n",
       "      <th>ISO3</th>\n",
       "      <th>year</th>\n",
       "      <th>OECD_KEI_infl</th>\n",
       "      <th>BIS_infl</th>\n",
       "    </tr>\n",
       "  </thead>\n",
       "  <tbody>\n",
       "    <tr>\n",
       "      <th>6331</th>\n",
       "      <td>NZL</td>\n",
       "      <td>1917.0</td>\n",
       "      <td>9.760275</td>\n",
       "      <td>9.759180</td>\n",
       "    </tr>\n",
       "    <tr>\n",
       "      <th>6332</th>\n",
       "      <td>NZL</td>\n",
       "      <td>1916.0</td>\n",
       "      <td>7.948244</td>\n",
       "      <td>7.949731</td>\n",
       "    </tr>\n",
       "  </tbody>\n",
       "</table>\n",
       "</div>"
      ],
      "text/plain": [
       "     ISO3    year  OECD_KEI_infl  BIS_infl\n",
       "6331  NZL  1917.0       9.760275  9.759180\n",
       "6332  NZL  1916.0       7.948244  7.949731"
      ]
     },
     "execution_count": 15,
     "metadata": {},
     "output_type": "execute_result"
    }
   ],
   "source": [
    "df_macro_nz = df_macro.query(\"ISO3 == 'NZL'\")[['ISO3', 'year', 'OECD_KEI_infl', 'BIS_infl']].dropna()\n",
    "df_macro_nz.tail(2)"
   ]
  },
  {
   "cell_type": "code",
   "execution_count": 16,
   "metadata": {},
   "outputs": [],
   "source": [
    "# cols = ['REF_AREA', 'TIME_PERIOD', 'OBS_VALUE', 'MEASURE']\n",
    "# df_oecd.query(\"REF_AREA == 'NZL' & MEASURE=='ULCE' & UNIT_MEASURE == 'PA'\").sort_values(\"TIME_PERIOD\")"
   ]
  },
  {
   "cell_type": "code",
   "execution_count": 17,
   "metadata": {},
   "outputs": [
    {
     "data": {
      "text/html": [
       "<div>\n",
       "<style scoped>\n",
       "    .dataframe tbody tr th:only-of-type {\n",
       "        vertical-align: middle;\n",
       "    }\n",
       "\n",
       "    .dataframe tbody tr th {\n",
       "        vertical-align: top;\n",
       "    }\n",
       "\n",
       "    .dataframe thead th {\n",
       "        text-align: right;\n",
       "    }\n",
       "</style>\n",
       "<table border=\"1\" class=\"dataframe\">\n",
       "  <thead>\n",
       "    <tr style=\"text-align: right;\">\n",
       "      <th></th>\n",
       "      <th>REF_AREA</th>\n",
       "      <th>TIME_PERIOD</th>\n",
       "      <th>OBS_VALUE</th>\n",
       "      <th>MEASURE</th>\n",
       "      <th>UNIT_MEASURE</th>\n",
       "    </tr>\n",
       "  </thead>\n",
       "  <tbody>\n",
       "    <tr>\n",
       "      <th>25640</th>\n",
       "      <td>NZL</td>\n",
       "      <td>2017-Q2</td>\n",
       "      <td>1.077198</td>\n",
       "      <td>ULCE</td>\n",
       "      <td>PA</td>\n",
       "    </tr>\n",
       "    <tr>\n",
       "      <th>25641</th>\n",
       "      <td>NZL</td>\n",
       "      <td>2017-Q1</td>\n",
       "      <td>5.819698</td>\n",
       "      <td>ULCE</td>\n",
       "      <td>PA</td>\n",
       "    </tr>\n",
       "  </tbody>\n",
       "</table>\n",
       "</div>"
      ],
      "text/plain": [
       "      REF_AREA TIME_PERIOD  OBS_VALUE MEASURE UNIT_MEASURE\n",
       "25640      NZL     2017-Q2   1.077198    ULCE           PA\n",
       "25641      NZL     2017-Q1   5.819698    ULCE           PA"
      ]
     },
     "execution_count": 17,
     "metadata": {},
     "output_type": "execute_result"
    }
   ],
   "source": [
    "cols = ['REF_AREA', 'TIME_PERIOD', 'OBS_VALUE', 'MEASURE', 'UNIT_MEASURE']\n",
    "df_oecd_nz = df_oecd[cols].query(\"REF_AREA == 'NZL' & MEASURE=='ULCE' & UNIT_MEASURE == 'PA'\")\n",
    "df_oecd_nz.head(2)"
   ]
  },
  {
   "cell_type": "markdown",
   "metadata": {},
   "source": [
    "## M.3 Rename columns"
   ]
  },
  {
   "cell_type": "code",
   "execution_count": 18,
   "metadata": {},
   "outputs": [
    {
     "data": {
      "text/html": [
       "<div>\n",
       "<style scoped>\n",
       "    .dataframe tbody tr th:only-of-type {\n",
       "        vertical-align: middle;\n",
       "    }\n",
       "\n",
       "    .dataframe tbody tr th {\n",
       "        vertical-align: top;\n",
       "    }\n",
       "\n",
       "    .dataframe thead th {\n",
       "        text-align: right;\n",
       "    }\n",
       "</style>\n",
       "<table border=\"1\" class=\"dataframe\">\n",
       "  <thead>\n",
       "    <tr style=\"text-align: right;\">\n",
       "      <th></th>\n",
       "      <th>country</th>\n",
       "      <th>date</th>\n",
       "      <th>OECD_KEI_infl</th>\n",
       "      <th>BIS_infl</th>\n",
       "    </tr>\n",
       "  </thead>\n",
       "  <tbody>\n",
       "    <tr>\n",
       "      <th>6225</th>\n",
       "      <td>NZL</td>\n",
       "      <td>2023.0</td>\n",
       "      <td>5.733163</td>\n",
       "      <td>5.733163</td>\n",
       "    </tr>\n",
       "    <tr>\n",
       "      <th>6226</th>\n",
       "      <td>NZL</td>\n",
       "      <td>2022.0</td>\n",
       "      <td>7.172225</td>\n",
       "      <td>7.172225</td>\n",
       "    </tr>\n",
       "  </tbody>\n",
       "</table>\n",
       "</div>"
      ],
      "text/plain": [
       "     country    date  OECD_KEI_infl  BIS_infl\n",
       "6225     NZL  2023.0       5.733163  5.733163\n",
       "6226     NZL  2022.0       7.172225  7.172225"
      ]
     },
     "execution_count": 18,
     "metadata": {},
     "output_type": "execute_result"
    }
   ],
   "source": [
    "df_macro_nz = df_macro_nz.rename({\"ISO3\":'country', \"year\":'date'}, axis=1)\n",
    "df_macro_nz.head(2)"
   ]
  },
  {
   "cell_type": "code",
   "execution_count": 19,
   "metadata": {},
   "outputs": [
    {
     "data": {
      "text/html": [
       "<div>\n",
       "<style scoped>\n",
       "    .dataframe tbody tr th:only-of-type {\n",
       "        vertical-align: middle;\n",
       "    }\n",
       "\n",
       "    .dataframe tbody tr th {\n",
       "        vertical-align: top;\n",
       "    }\n",
       "\n",
       "    .dataframe thead th {\n",
       "        text-align: right;\n",
       "    }\n",
       "</style>\n",
       "<table border=\"1\" class=\"dataframe\">\n",
       "  <thead>\n",
       "    <tr style=\"text-align: right;\">\n",
       "      <th></th>\n",
       "      <th>country</th>\n",
       "      <th>date</th>\n",
       "      <th>ULCE</th>\n",
       "    </tr>\n",
       "  </thead>\n",
       "  <tbody>\n",
       "    <tr>\n",
       "      <th>25640</th>\n",
       "      <td>NZL</td>\n",
       "      <td>2017-Q2</td>\n",
       "      <td>1.077198</td>\n",
       "    </tr>\n",
       "    <tr>\n",
       "      <th>25641</th>\n",
       "      <td>NZL</td>\n",
       "      <td>2017-Q1</td>\n",
       "      <td>5.819698</td>\n",
       "    </tr>\n",
       "  </tbody>\n",
       "</table>\n",
       "</div>"
      ],
      "text/plain": [
       "      country     date      ULCE\n",
       "25640     NZL  2017-Q2  1.077198\n",
       "25641     NZL  2017-Q1  5.819698"
      ]
     },
     "execution_count": 19,
     "metadata": {},
     "output_type": "execute_result"
    }
   ],
   "source": [
    "df_oecd_nz = df_oecd_nz.rename({\"REF_AREA\":'country', \"TIME_PERIOD\":'date', 'OBS_VALUE':'ULCE'}, axis=1).drop([\"MEASURE\", \"UNIT_MEASURE\"], axis=1)\n",
    "df_oecd_nz.head(2)"
   ]
  },
  {
   "cell_type": "markdown",
   "metadata": {},
   "source": [
    "## M.4 Date"
   ]
  },
  {
   "cell_type": "code",
   "execution_count": 20,
   "metadata": {},
   "outputs": [
    {
     "data": {
      "text/plain": [
       "dtype('O')"
      ]
     },
     "execution_count": 20,
     "metadata": {},
     "output_type": "execute_result"
    }
   ],
   "source": [
    "df_oecd_nz.date.dtype"
   ]
  },
  {
   "cell_type": "code",
   "execution_count": 21,
   "metadata": {},
   "outputs": [
    {
     "data": {
      "text/plain": [
       "dtype('<M8[ns]')"
      ]
     },
     "execution_count": 21,
     "metadata": {},
     "output_type": "execute_result"
    }
   ],
   "source": [
    "df_oecd_nz.date = pd.PeriodIndex(df_oecd_nz.date, freq='Q').to_timestamp()\n",
    "df_oecd_nz.date.dtype"
   ]
  },
  {
   "cell_type": "code",
   "execution_count": 22,
   "metadata": {},
   "outputs": [
    {
     "data": {
      "text/plain": [
       "dtype('float64')"
      ]
     },
     "execution_count": 22,
     "metadata": {},
     "output_type": "execute_result"
    }
   ],
   "source": [
    "df_macro_nz.date.dtype"
   ]
  },
  {
   "cell_type": "code",
   "execution_count": 23,
   "metadata": {},
   "outputs": [
    {
     "data": {
      "text/html": [
       "<div>\n",
       "<style scoped>\n",
       "    .dataframe tbody tr th:only-of-type {\n",
       "        vertical-align: middle;\n",
       "    }\n",
       "\n",
       "    .dataframe tbody tr th {\n",
       "        vertical-align: top;\n",
       "    }\n",
       "\n",
       "    .dataframe thead th {\n",
       "        text-align: right;\n",
       "    }\n",
       "</style>\n",
       "<table border=\"1\" class=\"dataframe\">\n",
       "  <thead>\n",
       "    <tr style=\"text-align: right;\">\n",
       "      <th></th>\n",
       "      <th>country</th>\n",
       "      <th>date</th>\n",
       "      <th>OECD_KEI_infl</th>\n",
       "      <th>BIS_infl</th>\n",
       "    </tr>\n",
       "  </thead>\n",
       "  <tbody>\n",
       "    <tr>\n",
       "      <th>6225</th>\n",
       "      <td>NZL</td>\n",
       "      <td>2023.0</td>\n",
       "      <td>5.733163</td>\n",
       "      <td>5.733163</td>\n",
       "    </tr>\n",
       "    <tr>\n",
       "      <th>6226</th>\n",
       "      <td>NZL</td>\n",
       "      <td>2022.0</td>\n",
       "      <td>7.172225</td>\n",
       "      <td>7.172225</td>\n",
       "    </tr>\n",
       "  </tbody>\n",
       "</table>\n",
       "</div>"
      ],
      "text/plain": [
       "     country    date  OECD_KEI_infl  BIS_infl\n",
       "6225     NZL  2023.0       5.733163  5.733163\n",
       "6226     NZL  2022.0       7.172225  7.172225"
      ]
     },
     "execution_count": 23,
     "metadata": {},
     "output_type": "execute_result"
    }
   ],
   "source": [
    "df_macro_nz.head(2)"
   ]
  },
  {
   "cell_type": "code",
   "execution_count": 24,
   "metadata": {},
   "outputs": [
    {
     "data": {
      "text/plain": [
       "dtype('<M8[ns]')"
      ]
     },
     "execution_count": 24,
     "metadata": {},
     "output_type": "execute_result"
    }
   ],
   "source": [
    "df_macro_nz.date = pd.to_datetime(df_macro_nz.date, format = '%Y')\n",
    "df_macro_nz.date.dtype"
   ]
  },
  {
   "cell_type": "markdown",
   "metadata": {},
   "source": [
    "## M.5 Set index"
   ]
  },
  {
   "cell_type": "code",
   "execution_count": 25,
   "metadata": {},
   "outputs": [
    {
     "data": {
      "text/html": [
       "<div>\n",
       "<style scoped>\n",
       "    .dataframe tbody tr th:only-of-type {\n",
       "        vertical-align: middle;\n",
       "    }\n",
       "\n",
       "    .dataframe tbody tr th {\n",
       "        vertical-align: top;\n",
       "    }\n",
       "\n",
       "    .dataframe thead th {\n",
       "        text-align: right;\n",
       "    }\n",
       "</style>\n",
       "<table border=\"1\" class=\"dataframe\">\n",
       "  <thead>\n",
       "    <tr style=\"text-align: right;\">\n",
       "      <th></th>\n",
       "      <th></th>\n",
       "      <th>OECD_KEI_infl</th>\n",
       "      <th>BIS_infl</th>\n",
       "    </tr>\n",
       "    <tr>\n",
       "      <th>country</th>\n",
       "      <th>date</th>\n",
       "      <th></th>\n",
       "      <th></th>\n",
       "    </tr>\n",
       "  </thead>\n",
       "  <tbody>\n",
       "    <tr>\n",
       "      <th rowspan=\"2\" valign=\"top\">NZL</th>\n",
       "      <th>2023-01-01</th>\n",
       "      <td>5.733163</td>\n",
       "      <td>5.733163</td>\n",
       "    </tr>\n",
       "    <tr>\n",
       "      <th>2022-01-01</th>\n",
       "      <td>7.172225</td>\n",
       "      <td>7.172225</td>\n",
       "    </tr>\n",
       "  </tbody>\n",
       "</table>\n",
       "</div>"
      ],
      "text/plain": [
       "                    OECD_KEI_infl  BIS_infl\n",
       "country date                               \n",
       "NZL     2023-01-01       5.733163  5.733163\n",
       "        2022-01-01       7.172225  7.172225"
      ]
     },
     "execution_count": 25,
     "metadata": {},
     "output_type": "execute_result"
    }
   ],
   "source": [
    "df_macro_nz = df_macro_nz.set_index(['country', 'date'])\n",
    "df_macro_nz.head(2)"
   ]
  },
  {
   "cell_type": "code",
   "execution_count": 26,
   "metadata": {},
   "outputs": [
    {
     "data": {
      "text/html": [
       "<div>\n",
       "<style scoped>\n",
       "    .dataframe tbody tr th:only-of-type {\n",
       "        vertical-align: middle;\n",
       "    }\n",
       "\n",
       "    .dataframe tbody tr th {\n",
       "        vertical-align: top;\n",
       "    }\n",
       "\n",
       "    .dataframe thead th {\n",
       "        text-align: right;\n",
       "    }\n",
       "</style>\n",
       "<table border=\"1\" class=\"dataframe\">\n",
       "  <thead>\n",
       "    <tr style=\"text-align: right;\">\n",
       "      <th></th>\n",
       "      <th></th>\n",
       "      <th>OECD_KEI_infl</th>\n",
       "      <th>BIS_infl</th>\n",
       "    </tr>\n",
       "    <tr>\n",
       "      <th>country</th>\n",
       "      <th>date</th>\n",
       "      <th></th>\n",
       "      <th></th>\n",
       "    </tr>\n",
       "  </thead>\n",
       "  <tbody>\n",
       "    <tr>\n",
       "      <th rowspan=\"2\" valign=\"top\">NZL</th>\n",
       "      <th>2022-01-01</th>\n",
       "      <td>7.172225</td>\n",
       "      <td>7.172225</td>\n",
       "    </tr>\n",
       "    <tr>\n",
       "      <th>2023-01-01</th>\n",
       "      <td>5.733163</td>\n",
       "      <td>5.733163</td>\n",
       "    </tr>\n",
       "  </tbody>\n",
       "</table>\n",
       "</div>"
      ],
      "text/plain": [
       "                    OECD_KEI_infl  BIS_infl\n",
       "country date                               \n",
       "NZL     2022-01-01       7.172225  7.172225\n",
       "        2023-01-01       5.733163  5.733163"
      ]
     },
     "execution_count": 26,
     "metadata": {},
     "output_type": "execute_result"
    }
   ],
   "source": [
    "df_macro_nz.sort_index().tail(2)"
   ]
  },
  {
   "cell_type": "code",
   "execution_count": 27,
   "metadata": {},
   "outputs": [
    {
     "data": {
      "text/html": [
       "<div>\n",
       "<style scoped>\n",
       "    .dataframe tbody tr th:only-of-type {\n",
       "        vertical-align: middle;\n",
       "    }\n",
       "\n",
       "    .dataframe tbody tr th {\n",
       "        vertical-align: top;\n",
       "    }\n",
       "\n",
       "    .dataframe thead th {\n",
       "        text-align: right;\n",
       "    }\n",
       "</style>\n",
       "<table border=\"1\" class=\"dataframe\">\n",
       "  <thead>\n",
       "    <tr style=\"text-align: right;\">\n",
       "      <th></th>\n",
       "      <th></th>\n",
       "      <th>ULCE</th>\n",
       "    </tr>\n",
       "    <tr>\n",
       "      <th>country</th>\n",
       "      <th>date</th>\n",
       "      <th></th>\n",
       "    </tr>\n",
       "  </thead>\n",
       "  <tbody>\n",
       "    <tr>\n",
       "      <th rowspan=\"2\" valign=\"top\">NZL</th>\n",
       "      <th>2017-04-01</th>\n",
       "      <td>1.077198</td>\n",
       "    </tr>\n",
       "    <tr>\n",
       "      <th>2017-01-01</th>\n",
       "      <td>5.819698</td>\n",
       "    </tr>\n",
       "  </tbody>\n",
       "</table>\n",
       "</div>"
      ],
      "text/plain": [
       "                        ULCE\n",
       "country date                \n",
       "NZL     2017-04-01  1.077198\n",
       "        2017-01-01  5.819698"
      ]
     },
     "execution_count": 27,
     "metadata": {},
     "output_type": "execute_result"
    }
   ],
   "source": [
    "df_oecd_nz = df_oecd_nz.set_index(['country', 'date'])\n",
    "df_oecd_nz.head(2)"
   ]
  },
  {
   "cell_type": "markdown",
   "metadata": {},
   "source": [
    "## M.M Merge"
   ]
  },
  {
   "cell_type": "markdown",
   "metadata": {},
   "source": [
    "### M.M.1 Merge Function"
   ]
  },
  {
   "cell_type": "code",
   "execution_count": 28,
   "metadata": {},
   "outputs": [
    {
     "data": {
      "text/html": [
       "<div>\n",
       "<style scoped>\n",
       "    .dataframe tbody tr th:only-of-type {\n",
       "        vertical-align: middle;\n",
       "    }\n",
       "\n",
       "    .dataframe tbody tr th {\n",
       "        vertical-align: top;\n",
       "    }\n",
       "\n",
       "    .dataframe thead th {\n",
       "        text-align: right;\n",
       "    }\n",
       "</style>\n",
       "<table border=\"1\" class=\"dataframe\">\n",
       "  <thead>\n",
       "    <tr style=\"text-align: right;\">\n",
       "      <th></th>\n",
       "      <th></th>\n",
       "      <th>OECD_KEI_infl</th>\n",
       "      <th>BIS_infl</th>\n",
       "      <th>ULCE</th>\n",
       "    </tr>\n",
       "    <tr>\n",
       "      <th>country</th>\n",
       "      <th>date</th>\n",
       "      <th></th>\n",
       "      <th></th>\n",
       "      <th></th>\n",
       "    </tr>\n",
       "  </thead>\n",
       "  <tbody>\n",
       "    <tr>\n",
       "      <th rowspan=\"2\" valign=\"top\">NZL</th>\n",
       "      <th>1992-01-01</th>\n",
       "      <td>1.014557</td>\n",
       "      <td>1.014523</td>\n",
       "      <td>-0.38059</td>\n",
       "    </tr>\n",
       "    <tr>\n",
       "      <th>1991-01-01</th>\n",
       "      <td>2.602399</td>\n",
       "      <td>2.602418</td>\n",
       "      <td>6.21877</td>\n",
       "    </tr>\n",
       "  </tbody>\n",
       "</table>\n",
       "</div>"
      ],
      "text/plain": [
       "                    OECD_KEI_infl  BIS_infl     ULCE\n",
       "country date                                        \n",
       "NZL     1992-01-01       1.014557  1.014523 -0.38059\n",
       "        1991-01-01       2.602399  2.602418  6.21877"
      ]
     },
     "execution_count": 28,
     "metadata": {},
     "output_type": "execute_result"
    }
   ],
   "source": [
    "df_merge = pd.merge(\n",
    "    df_macro_nz,\n",
    "    df_oecd_nz,\n",
    "    right_index = True,\n",
    "    left_index = True,\n",
    "    how = 'inner'\n",
    "    \n",
    ")\n",
    "df_merge.tail(2)"
   ]
  },
  {
   "cell_type": "markdown",
   "metadata": {},
   "source": [
    "### M.M.2 Concat"
   ]
  },
  {
   "cell_type": "code",
   "execution_count": 29,
   "metadata": {},
   "outputs": [
    {
     "data": {
      "text/html": [
       "<div>\n",
       "<style scoped>\n",
       "    .dataframe tbody tr th:only-of-type {\n",
       "        vertical-align: middle;\n",
       "    }\n",
       "\n",
       "    .dataframe tbody tr th {\n",
       "        vertical-align: top;\n",
       "    }\n",
       "\n",
       "    .dataframe thead th {\n",
       "        text-align: right;\n",
       "    }\n",
       "</style>\n",
       "<table border=\"1\" class=\"dataframe\">\n",
       "  <thead>\n",
       "    <tr style=\"text-align: right;\">\n",
       "      <th></th>\n",
       "      <th></th>\n",
       "      <th>OECD_KEI_infl</th>\n",
       "      <th>BIS_infl</th>\n",
       "      <th>ULCE</th>\n",
       "    </tr>\n",
       "    <tr>\n",
       "      <th>country</th>\n",
       "      <th>date</th>\n",
       "      <th></th>\n",
       "      <th></th>\n",
       "      <th></th>\n",
       "    </tr>\n",
       "  </thead>\n",
       "  <tbody>\n",
       "    <tr>\n",
       "      <th rowspan=\"2\" valign=\"top\">NZL</th>\n",
       "      <th>1992-01-01</th>\n",
       "      <td>1.014557</td>\n",
       "      <td>1.014523</td>\n",
       "      <td>-0.38059</td>\n",
       "    </tr>\n",
       "    <tr>\n",
       "      <th>1991-01-01</th>\n",
       "      <td>2.602399</td>\n",
       "      <td>2.602418</td>\n",
       "      <td>6.21877</td>\n",
       "    </tr>\n",
       "  </tbody>\n",
       "</table>\n",
       "</div>"
      ],
      "text/plain": [
       "                    OECD_KEI_infl  BIS_infl     ULCE\n",
       "country date                                        \n",
       "NZL     1992-01-01       1.014557  1.014523 -0.38059\n",
       "        1991-01-01       2.602399  2.602418  6.21877"
      ]
     },
     "execution_count": 29,
     "metadata": {},
     "output_type": "execute_result"
    }
   ],
   "source": [
    "df_merge = pd.concat(\n",
    "    [df_macro_nz,\n",
    "    df_oecd_nz],\n",
    "    axis = 1\n",
    ")\n",
    "df_merge.dropna().tail(2)"
   ]
  },
  {
   "cell_type": "markdown",
   "metadata": {},
   "source": [
    "# Shape Data\n",
    "\n",
    "## S.1 Wide to long"
   ]
  },
  {
   "cell_type": "code",
   "execution_count": 30,
   "metadata": {},
   "outputs": [
    {
     "data": {
      "text/html": [
       "<div>\n",
       "<style scoped>\n",
       "    .dataframe tbody tr th:only-of-type {\n",
       "        vertical-align: middle;\n",
       "    }\n",
       "\n",
       "    .dataframe tbody tr th {\n",
       "        vertical-align: top;\n",
       "    }\n",
       "\n",
       "    .dataframe thead th {\n",
       "        text-align: right;\n",
       "    }\n",
       "</style>\n",
       "<table border=\"1\" class=\"dataframe\">\n",
       "  <thead>\n",
       "    <tr style=\"text-align: right;\">\n",
       "      <th></th>\n",
       "      <th>country</th>\n",
       "      <th>date</th>\n",
       "      <th>level_2</th>\n",
       "      <th>0</th>\n",
       "    </tr>\n",
       "  </thead>\n",
       "  <tbody>\n",
       "    <tr>\n",
       "      <th>0</th>\n",
       "      <td>NZL</td>\n",
       "      <td>2023-01-01</td>\n",
       "      <td>OECD_KEI_infl</td>\n",
       "      <td>5.733163</td>\n",
       "    </tr>\n",
       "    <tr>\n",
       "      <th>1</th>\n",
       "      <td>NZL</td>\n",
       "      <td>2023-01-01</td>\n",
       "      <td>BIS_infl</td>\n",
       "      <td>5.733163</td>\n",
       "    </tr>\n",
       "  </tbody>\n",
       "</table>\n",
       "</div>"
      ],
      "text/plain": [
       "  country       date        level_2         0\n",
       "0     NZL 2023-01-01  OECD_KEI_infl  5.733163\n",
       "1     NZL 2023-01-01       BIS_infl  5.733163"
      ]
     },
     "execution_count": 30,
     "metadata": {},
     "output_type": "execute_result"
    }
   ],
   "source": [
    "df_long = df_merge.stack().reset_index()\n",
    "df_long.head(2)"
   ]
  },
  {
   "cell_type": "markdown",
   "metadata": {},
   "source": [
    "## S.2 Long to wide"
   ]
  },
  {
   "cell_type": "code",
   "execution_count": 31,
   "metadata": {},
   "outputs": [
    {
     "data": {
      "text/html": [
       "<div>\n",
       "<style scoped>\n",
       "    .dataframe tbody tr th:only-of-type {\n",
       "        vertical-align: middle;\n",
       "    }\n",
       "\n",
       "    .dataframe tbody tr th {\n",
       "        vertical-align: top;\n",
       "    }\n",
       "\n",
       "    .dataframe thead tr th {\n",
       "        text-align: left;\n",
       "    }\n",
       "\n",
       "    .dataframe thead tr:last-of-type th {\n",
       "        text-align: right;\n",
       "    }\n",
       "</style>\n",
       "<table border=\"1\" class=\"dataframe\">\n",
       "  <thead>\n",
       "    <tr>\n",
       "      <th>country</th>\n",
       "      <th colspan=\"3\" halign=\"left\">NZL</th>\n",
       "    </tr>\n",
       "    <tr>\n",
       "      <th>level_2</th>\n",
       "      <th>OECD_KEI_infl</th>\n",
       "      <th>BIS_infl</th>\n",
       "      <th>ULCE</th>\n",
       "    </tr>\n",
       "    <tr>\n",
       "      <th>date</th>\n",
       "      <th></th>\n",
       "      <th></th>\n",
       "      <th></th>\n",
       "    </tr>\n",
       "  </thead>\n",
       "  <tbody>\n",
       "    <tr>\n",
       "      <th>1916-01-01</th>\n",
       "      <td>7.948244</td>\n",
       "      <td>7.949731</td>\n",
       "      <td>NaN</td>\n",
       "    </tr>\n",
       "    <tr>\n",
       "      <th>1917-01-01</th>\n",
       "      <td>9.760275</td>\n",
       "      <td>9.759180</td>\n",
       "      <td>NaN</td>\n",
       "    </tr>\n",
       "  </tbody>\n",
       "</table>\n",
       "</div>"
      ],
      "text/plain": [
       "country              NZL               \n",
       "level_2    OECD_KEI_infl  BIS_infl ULCE\n",
       "date                                   \n",
       "1916-01-01      7.948244  7.949731  NaN\n",
       "1917-01-01      9.760275  9.759180  NaN"
      ]
     },
     "execution_count": 31,
     "metadata": {},
     "output_type": "execute_result"
    }
   ],
   "source": [
    "df_wide = df_long.pivot(\n",
    "    index = 'date',\n",
    "    columns = ['country', 'level_2'],\n",
    "    values = 0\n",
    ")\n",
    "df_wide.head(2)"
   ]
  },
  {
   "cell_type": "markdown",
   "metadata": {},
   "source": [
    "## Long to Panel"
   ]
  },
  {
   "cell_type": "code",
   "execution_count": 32,
   "metadata": {},
   "outputs": [
    {
     "data": {
      "text/html": [
       "<div>\n",
       "<style scoped>\n",
       "    .dataframe tbody tr th:only-of-type {\n",
       "        vertical-align: middle;\n",
       "    }\n",
       "\n",
       "    .dataframe tbody tr th {\n",
       "        vertical-align: top;\n",
       "    }\n",
       "\n",
       "    .dataframe thead th {\n",
       "        text-align: right;\n",
       "    }\n",
       "</style>\n",
       "<table border=\"1\" class=\"dataframe\">\n",
       "  <thead>\n",
       "    <tr style=\"text-align: right;\">\n",
       "      <th></th>\n",
       "      <th>level_2</th>\n",
       "      <th>BIS_infl</th>\n",
       "      <th>OECD_KEI_infl</th>\n",
       "      <th>ULCE</th>\n",
       "    </tr>\n",
       "    <tr>\n",
       "      <th>country</th>\n",
       "      <th>date</th>\n",
       "      <th></th>\n",
       "      <th></th>\n",
       "      <th></th>\n",
       "    </tr>\n",
       "  </thead>\n",
       "  <tbody>\n",
       "    <tr>\n",
       "      <th rowspan=\"2\" valign=\"top\">NZL</th>\n",
       "      <th>1916-01-01</th>\n",
       "      <td>7.949731</td>\n",
       "      <td>7.948244</td>\n",
       "      <td>NaN</td>\n",
       "    </tr>\n",
       "    <tr>\n",
       "      <th>1917-01-01</th>\n",
       "      <td>9.759180</td>\n",
       "      <td>9.760275</td>\n",
       "      <td>NaN</td>\n",
       "    </tr>\n",
       "  </tbody>\n",
       "</table>\n",
       "</div>"
      ],
      "text/plain": [
       "level_2             BIS_infl  OECD_KEI_infl  ULCE\n",
       "country date                                     \n",
       "NZL     1916-01-01  7.949731       7.948244   NaN\n",
       "        1917-01-01  9.759180       9.760275   NaN"
      ]
     },
     "execution_count": 32,
     "metadata": {},
     "output_type": "execute_result"
    }
   ],
   "source": [
    "df_panel = df_long.pivot(\n",
    "    index = ['country', 'date'],\n",
    "    columns =  'level_2',\n",
    "    values = 0\n",
    ")\n",
    "df_panel.head(2)"
   ]
  },
  {
   "cell_type": "markdown",
   "metadata": {},
   "source": [
    "# 3. Webscraping\n",
    "\n",
    "## 3.1 Basic HTML"
   ]
  },
  {
   "cell_type": "markdown",
   "metadata": {},
   "source": [
    "### 3.1.1 Scrape"
   ]
  },
  {
   "cell_type": "code",
   "execution_count": 33,
   "metadata": {},
   "outputs": [
    {
     "data": {
      "text/plain": [
       "<Response [200]>"
      ]
     },
     "execution_count": 33,
     "metadata": {},
     "output_type": "execute_result"
    }
   ],
   "source": [
    "import requests\n",
    "# The URL of the website to scrape\n",
    "url = 'http://quotes.toscrape.com/'\n",
    "# Send a GET request to the website\n",
    "response = requests.get(url)\n",
    "response"
   ]
  },
  {
   "cell_type": "markdown",
   "metadata": {},
   "source": [
    "### 3.1.2 Read content"
   ]
  },
  {
   "cell_type": "code",
   "execution_count": 34,
   "metadata": {},
   "outputs": [],
   "source": [
    "from bs4 import BeautifulSoup\n",
    "# Parse the HTML content of the page using Beautiful Soup\n",
    "soup = BeautifulSoup(response.text, 'html.parser')\n",
    "#soup"
   ]
  },
  {
   "cell_type": "code",
   "execution_count": 35,
   "metadata": {},
   "outputs": [],
   "source": [
    "# Find all quote elements on the page\n",
    "quotes = soup.find_all('div', class_='quote')\n",
    "#quotes"
   ]
  },
  {
   "cell_type": "code",
   "execution_count": 36,
   "metadata": {},
   "outputs": [
    {
     "data": {
      "text/plain": [
       "<div class=\"quote\" itemscope=\"\" itemtype=\"http://schema.org/CreativeWork\">\n",
       "<span class=\"text\" itemprop=\"text\">“It is our choices, Harry, that show what we truly are, far more than our abilities.”</span>\n",
       "<span>by <small class=\"author\" itemprop=\"author\">J.K. Rowling</small>\n",
       "<a href=\"/author/J-K-Rowling\">(about)</a>\n",
       "</span>\n",
       "<div class=\"tags\">\n",
       "            Tags:\n",
       "            <meta class=\"keywords\" content=\"abilities,choices\" itemprop=\"keywords\"/>\n",
       "<a class=\"tag\" href=\"/tag/abilities/page/1/\">abilities</a>\n",
       "<a class=\"tag\" href=\"/tag/choices/page/1/\">choices</a>\n",
       "</div>\n",
       "</div>"
      ]
     },
     "execution_count": 36,
     "metadata": {},
     "output_type": "execute_result"
    }
   ],
   "source": [
    "quote = quotes[1]\n",
    "quote"
   ]
  },
  {
   "cell_type": "code",
   "execution_count": 37,
   "metadata": {},
   "outputs": [
    {
     "data": {
      "text/plain": [
       "'\\n“It is our choices, Harry, that show what we truly are, far more than our abilities.”\\nby J.K. Rowling\\n(about)\\n\\n\\n            Tags:\\n            \\nabilities\\nchoices\\n\\n'"
      ]
     },
     "execution_count": 37,
     "metadata": {},
     "output_type": "execute_result"
    }
   ],
   "source": [
    "quote.get_text()"
   ]
  },
  {
   "cell_type": "code",
   "execution_count": 38,
   "metadata": {},
   "outputs": [
    {
     "data": {
      "text/plain": [
       "'“It is our choices, Harry, that show what we truly are, far more than our abilities.”'"
      ]
     },
     "execution_count": 38,
     "metadata": {},
     "output_type": "execute_result"
    }
   ],
   "source": [
    "quote.find('span', class_='text').get_text()"
   ]
  },
  {
   "cell_type": "markdown",
   "metadata": {},
   "source": [
    "### 3.1.3 Print all"
   ]
  },
  {
   "cell_type": "code",
   "execution_count": 39,
   "metadata": {},
   "outputs": [
    {
     "name": "stdout",
     "output_type": "stream",
     "text": [
      "\"“The world as we have created it is a process of our thinking. It cannot be changed without changing our thinking.”\" - Albert Einstein\n",
      "\n",
      "\"“It is our choices, Harry, that show what we truly are, far more than our abilities.”\" - J.K. Rowling\n",
      "\n"
     ]
    }
   ],
   "source": [
    "\n",
    "# Iterate through the quotes and extract the text\n",
    "for quote in quotes[:2]:\n",
    "    text = quote.find('span', class_='text').get_text()\n",
    "    author = quote.find('small', class_='author').get_text()\n",
    "    # Print the quote and the author\n",
    "    print(f'\"{text}\" - {author}\\n')"
   ]
  },
  {
   "cell_type": "markdown",
   "metadata": {},
   "source": [
    "## 3.2 Scraping the FED"
   ]
  },
  {
   "cell_type": "markdown",
   "metadata": {},
   "source": [
    "### 3.2.1 Scraping one statement"
   ]
  },
  {
   "cell_type": "code",
   "execution_count": 40,
   "metadata": {},
   "outputs": [
    {
     "data": {
      "text/html": [
       "<div>\n",
       "<style scoped>\n",
       "    .dataframe tbody tr th:only-of-type {\n",
       "        vertical-align: middle;\n",
       "    }\n",
       "\n",
       "    .dataframe tbody tr th {\n",
       "        vertical-align: top;\n",
       "    }\n",
       "\n",
       "    .dataframe thead th {\n",
       "        text-align: right;\n",
       "    }\n",
       "</style>\n",
       "<table border=\"1\" class=\"dataframe\">\n",
       "  <thead>\n",
       "    <tr style=\"text-align: right;\">\n",
       "      <th></th>\n",
       "      <th>FOMC_Statement</th>\n",
       "      <th>Link</th>\n",
       "    </tr>\n",
       "  </thead>\n",
       "  <tbody>\n",
       "    <tr>\n",
       "      <th>2024-01-31</th>\n",
       "      <td>The Federal Reserve, the central bank of the U...</td>\n",
       "      <td>https://www.federalreserve.gov/newsevents/pres...</td>\n",
       "    </tr>\n",
       "  </tbody>\n",
       "</table>\n",
       "</div>"
      ],
      "text/plain": [
       "                                               FOMC_Statement  \\\n",
       "2024-01-31  The Federal Reserve, the central bank of the U...   \n",
       "\n",
       "                                                         Link  \n",
       "2024-01-31  https://www.federalreserve.gov/newsevents/pres...  "
      ]
     },
     "execution_count": 40,
     "metadata": {},
     "output_type": "execute_result"
    }
   ],
   "source": [
    "import re\n",
    "import requests\n",
    "from bs4 import BeautifulSoup\n",
    "import pandas as pd\n",
    "\n",
    "def get_fomc_statement(url):\n",
    "    response = requests.get(url)\n",
    "    soup = BeautifulSoup(response.content, 'html.parser')\n",
    "    paragraphs = soup.find_all('p')\n",
    "    statement = \"\\n\\n\".join(p.get_text(strip=True) for p in paragraphs)\n",
    "    date_match = re.search(r'monetary(\\d{8})a\\.htm', url)\n",
    "    date_str = date_match.group(1)\n",
    "    date = pd.to_datetime(f\"{date_str[:4]}-{date_str[4:6]}-{date_str[6:]}\")\n",
    "    return pd.DataFrame({'FOMC_Statement': [statement], 'Link': [url]}, index=[date])\n",
    "\n",
    "example_url = \"https://www.federalreserve.gov/newsevents/pressreleases/monetary20240131a.htm\"\n",
    "statement_df = get_fomc_statement(example_url)\n",
    "statement_df.head(2)"
   ]
  },
  {
   "cell_type": "markdown",
   "metadata": {},
   "source": [
    "### 3.2.2 Scraping mulitple statements"
   ]
  },
  {
   "cell_type": "code",
   "execution_count": 41,
   "metadata": {},
   "outputs": [
    {
     "data": {
      "text/plain": [
       "96"
      ]
     },
     "execution_count": 41,
     "metadata": {},
     "output_type": "execute_result"
    }
   ],
   "source": [
    "import requests\n",
    "from bs4 import BeautifulSoup\n",
    "import pandas as pd\n",
    "import re\n",
    "\n",
    "def get_fomc_statement_links(calendar_url='https://www.federalreserve.gov/monetarypolicy/fomccalendars.htm'):\n",
    "   \n",
    "    response = requests.get(calendar_url)\n",
    "    response.raise_for_status()\n",
    "    soup = BeautifulSoup(response.content, 'html.parser')\n",
    "    links = [\n",
    "        'https://www.federalreserve.gov' + a['href']\n",
    "        for a in soup.select('a[href^=\"/newsevents/pressreleases/monetary\"]')\n",
    "    ]\n",
    "    return links\n",
    "    \n",
    "\n",
    "def download_fomc_statement(url):\n",
    "\n",
    "    response = requests.get(url)\n",
    "    soup = BeautifulSoup(response.content, 'html.parser')\n",
    "    paragraphs = soup.find_all('p')\n",
    "    statement = \"\\n\\n\".join(p.get_text(strip=True) for p in paragraphs)\n",
    "    date_match = re.search(r'monetary(\\d{8})a\\.htm', url)\n",
    "    date_str = date_match.group(1) if date_match else None\n",
    "    if date_str:\n",
    "        date = pd.to_datetime(f\"{date_str[:4]}-{date_str[4:6]}-{date_str[6:]}\")\n",
    "        return pd.DataFrame({'FOMC_Statement': [statement], 'Link': [url]}, index=[date])\n",
    "    else:\n",
    "        return pd.DataFrame({'FOMC_Statement': [statement], 'Link': [url]})\n",
    "\n",
    "statement_links = get_fomc_statement_links()\n",
    "len(statement_links)"
   ]
  },
  {
   "cell_type": "code",
   "execution_count": 42,
   "metadata": {},
   "outputs": [
    {
     "data": {
      "text/html": [
       "<div>\n",
       "<style scoped>\n",
       "    .dataframe tbody tr th:only-of-type {\n",
       "        vertical-align: middle;\n",
       "    }\n",
       "\n",
       "    .dataframe tbody tr th {\n",
       "        vertical-align: top;\n",
       "    }\n",
       "\n",
       "    .dataframe thead th {\n",
       "        text-align: right;\n",
       "    }\n",
       "</style>\n",
       "<table border=\"1\" class=\"dataframe\">\n",
       "  <thead>\n",
       "    <tr style=\"text-align: right;\">\n",
       "      <th></th>\n",
       "      <th>FOMC_Statement</th>\n",
       "      <th>Link</th>\n",
       "    </tr>\n",
       "  </thead>\n",
       "  <tbody>\n",
       "    <tr>\n",
       "      <th>2025-01-29 00:00:00</th>\n",
       "      <td>The Federal Reserve, the central bank of the U...</td>\n",
       "      <td>https://www.federalreserve.gov/newsevents/pres...</td>\n",
       "    </tr>\n",
       "    <tr>\n",
       "      <th>0</th>\n",
       "      <td>The Federal Reserve, the central bank of the U...</td>\n",
       "      <td>https://www.federalreserve.gov/newsevents/pres...</td>\n",
       "    </tr>\n",
       "  </tbody>\n",
       "</table>\n",
       "</div>"
      ],
      "text/plain": [
       "                                                        FOMC_Statement  \\\n",
       "2025-01-29 00:00:00  The Federal Reserve, the central bank of the U...   \n",
       "0                    The Federal Reserve, the central bank of the U...   \n",
       "\n",
       "                                                                  Link  \n",
       "2025-01-29 00:00:00  https://www.federalreserve.gov/newsevents/pres...  \n",
       "0                    https://www.federalreserve.gov/newsevents/pres...  "
      ]
     },
     "execution_count": 42,
     "metadata": {},
     "output_type": "execute_result"
    }
   ],
   "source": [
    "df_statements = []\n",
    "for statement in statement_links[:10]:\n",
    "    statement_df = download_fomc_statement(statement)\n",
    "    df_statements.append(statement_df)\n",
    "df_statements = pd.concat(df_statements, axis=0)\n",
    "df_statements.head(2)"
   ]
  },
  {
   "cell_type": "code",
   "execution_count": 44,
   "metadata": {},
   "outputs": [
    {
     "data": {
      "image/png": "[encoded data removed]",
      "text/plain": [
       "<Figure size 1000x500 with 1 Axes>"
      ]
     },
     "metadata": {},
     "output_type": "display_data"
    }
   ],
   "source": [
    "from wordcloud import WordCloud\n",
    "import matplotlib.pyplot as plt\n",
    "\n",
    "# Combine all statements into one string\n",
    "text = \" \".join(df_statements['FOMC_Statement'].dropna())\n",
    "\n",
    "# Generate the word cloud\n",
    "wordcloud = WordCloud(width=800, height=400, background_color='white').generate(text)\n",
    "\n",
    "# Display the word cloud\n",
    "plt.figure(figsize=(10, 5))\n",
    "plt.imshow(wordcloud, interpolation='bilinear')\n",
    "plt.axis('off')\n",
    "plt.show()"
   ]
  }
 ],
 "metadata": {
  "colab": {
   "collapsed_sections": [],
   "name": "Session_1_Notes.ipynb",
   "provenance": []
  },
  "kernelspec": {
   "display_name": "Python 3 (ipykernel)",
   "language": "python",
   "name": "python3"
  },
  "language_info": {
   "codemirror_mode": {
    "name": "ipython",
    "version": 3
   },
   "file_extension": ".py",
   "mimetype": "text/x-python",
   "name": "python",
   "nbconvert_exporter": "python",
   "pygments_lexer": "ipython3",
   "version": "3.12.7"
  }
 },
 "nbformat": 4,
 "nbformat_minor": 4
}
